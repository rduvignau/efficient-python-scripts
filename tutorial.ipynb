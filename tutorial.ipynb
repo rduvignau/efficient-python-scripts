{
 "cells": [
  {
   "cell_type": "markdown",
   "id": "9052b2e9-1147-408c-9f06-131e13583336",
   "metadata": {
    "tags": []
   },
   "source": [
    "<h1>Efficient Python Scripts Tutorial</h1>\n",
    "\n",
    "<h2>Introduction</h2>\n",
    "\n",
    "This tutorial, developped as part of the <a href=\"http://www.cse.chalmers.se/edu/year/2017/course/DAT300/\">DAT300 / DIT615 Data-driven support for cyber-physical systems</a>, aims to give some simple and useful tips on how to improve the performance of your Python scripts. Python is now ubiquitous in many domains such as machine learning, embedded devices, scentific computing and networking. To follow the tutorial, you are expected to be at least \"conversational\" in Python that is to understand its syntax and having already programmed at least once in it. Let's note that the tutorial focuses on Python but many of the below tips are regardless applicable to other scripting languages.\n",
    "\n",
    "<h3>About Python</h3>\n",
    "\n",
    "Python is a multi-paradigm language that offers ease to program, ease to read source-code even when not knowing the language and comes with an intuitive networking library.\n",
    "\n",
    "If you've never used it, it might be worth to follow a basic tutorial beforehand, for example check the <a href=\"https://www.python.org/about/gettingstarted/\">getting started page</a>.\n",
    "\n",
    "<h3>About the tutorial</h3>\n",
    "\n",
    "You need a <a href=\"https://jupyter.readthedocs.io/en/latest/install.html\">working jupyter notebook</a> to run the tutorial and if you are reading those lines it should be the case. The tutorial does not rely on any other packages.\n",
    "\n",
    "The main purpose of the tutorial is to get a feeling of places where easy optimization is possible when writing your scripts. It was not meant as, but it can actually also be used as a quick reference for many python syntax as the small pieces of code deal with various Python aspects. At last the tutorial itself can also be a simple starting tool for using jupyter and is written for a complete beginner in jupyter.\n",
    "\n",
    "The first exercises are more guided on purpose and the later ones are intended to be mainly explored by oneself. The main purpose of the tutorial, beyond giving you some useful tips and tricks to make your scripts more powerful, is to also provide a guide of habits when considering different implementation to choose from: **testing!**\n",
    "    \n",
    "**Disclaimer** We are still experiencing with such a tutorial and improving it over the years, so ideas to complement it and feedback are more than welcome!\n",
    "\n",
    "### Some Jupyter shortcuts (for beginners to get started)\n",
    "\n",
    "- a = add a new cell Above, b = add a new cell Below\n",
    "- m = make a cell Markup, y = make a cell Code\n",
    "- Ctrl + Enter to run a cell\n",
    "- TAB to autocomplete your code\n",
    "- Shift + TAB to display a *function definition* (quick acces to the documentation)\n",
    "- toggle block comment: Ctrl + / (use numpad one on swedish keyboard)\n"
   ]
  },
  {
   "cell_type": "markdown",
   "id": "b4f94e28-ca42-475c-90a4-f80457413f4b",
   "metadata": {},
   "source": [
    "# Part 0 -- Generate a fake database\n",
    "\n",
    "The first step of the tutorial is to generate a fake database that will be used through the tutorial to get a feel about performance consequences of small decisions in your code. The database is generated in 10 different sizes where each is a simple csv file where each entry represents some abstract data made of a 60 characters identifier and 3 floats as the example below:\n",
    "\n",
    "ID |Number1 |Number2 |Number3\n",
    ":-:|:-:|:-:|:-:\n",
    "9f6264b5864e4f3e15ef3fbe17b4c4bc90742a9093d5e55e12cdbdbc7191|0.8269301791|0.4302317251|0.9849347586\n",
    "5f15e53e860c7e7bb6d653eed7443dc405748fb9dd8fdda09210b7c62a78|0.3773399908|0.9405536256|0.1265585766\n",
    "38b8ce47beb818d0cbe5aefd9a6d617442a2641115148202d0c65427a5d2|0.7667240736|0.9778946135|0.9630533761\n",
    "...|...|...|..."
   ]
  },
  {
   "cell_type": "markdown",
   "id": "7c575f65-2232-4c2f-b288-c43ec6fc6c09",
   "metadata": {},
   "source": [
    "You can execute the following code without modifications (click on the section then CTRL + ENTER to execute it)."
   ]
  },
  {
   "cell_type": "code",
   "execution_count": 2,
   "id": "113fddf6-c708-458e-86aa-1cfcd73f566d",
   "metadata": {},
   "outputs": [],
   "source": [
    "from random import random, getrandbits\n",
    "from timeit import timeit\n",
    "from matplotlib import pyplot as plt\n",
    "\n",
    "\"\"\"\n",
    "    Here are some utils that we will use in this tutorials\n",
    "\"\"\"\n",
    "\n",
    "# This generates a fake database with n rows\n",
    "def generate_database(n):\n",
    "    for _ in range(n):\n",
    "        yield hex(getrandbits(60*4))[2:].zfill(60), random(), random(), random()\n",
    "\n",
    "# This saves the database to a file without having had the object fully generated in memory\n",
    "def stream2file(data, filename):\n",
    "    with open(filename, \"w\") as outputfile:\n",
    "        for record in data:\n",
    "            print(record[0], *['{0:.10f}'.format(r) for r in record[1:]], sep=',', file=outputfile)\n",
    "\n",
    "# This does the opposite, ie this is a generator for a saved database\n",
    "def file2stream(filename):\n",
    "    with open(filename, \"r\") as inputfile:\n",
    "        for line in inputfile.readlines():\n",
    "            record = line.split(',')\n",
    "            yield record[0], *[float(x) for x in record[1:]]\n",
    "\n",
    "# Macro to generate a set of database of different sizes\n",
    "def generate_all_databases(max_size_in_bytes=100_000_000, nb_files=10):\n",
    "    for i in range(1,nb_files+1):\n",
    "        n = i*max_size_in_bytes//(100*nb_files)\n",
    "        stream2file(generate_database(n), f\"data{n}.csv\")\n",
    "\n",
    "# Macro to plot several lines sharing the same X axis\n",
    "def plotNlines(X, lines):\n",
    "    for name, points in lines:\n",
    "        plt.plot(X, points, marker='o', label=name)\n",
    "    plt.legend()\n",
    "    plt.show()\n",
    "    \n",
    "# Default parameters for the experiments\n",
    "M, N = 100_000_000, 10\n",
    "M1 = M//(100*N)\n",
    "sizes = [M1*(i+1) for i in range(2*N)]\n",
    "\n",
    "# Generates a sequence of 'iterations' sizes from 'minsize' up to 'iterations*minsize'\n",
    "def test_sizes(minsize=M1, iterations=N):\n",
    "    for x in range(iterations):\n",
    "        yield minsize*(x+1)\n",
    "\n",
    "\"\"\"\n",
    "    Here is a simple compare function that compare several implementation \n",
    "    by measuring the execution time for different size of input\n",
    "\"\"\"\n",
    "    \n",
    "def compare(*args, iterations=N, minsize=M1, repetition=1):\n",
    "    X = []\n",
    "    Y = [(args[i][0],[]) for i in range(len(args))]\n",
    "    for n in test_sizes(minsize, iterations):\n",
    "        X.append(n)\n",
    "        for i in range(len(args)):\n",
    "            Y[i][1].append(timeit(args[i][1](n), number=repetition))\n",
    "    \n",
    "    plotNlines(X, Y)\n",
    "    \n",
    "\"\"\"\n",
    "    This is a shortcut to generate a sequence of random numbers of size n\n",
    "\"\"\"\n",
    "generator = lambda n : (random() for _ in range(n))\n",
    "\n",
    "\"\"\"\n",
    "    This is a shortcut to create 20 lists of increasing size (from 100000 elements to 2000000)\n",
    "    And stores the lists in a dicttionary so that lists[n] is a list of size n\n",
    "\"\"\"\n",
    "lists = dict(zip( (n for n in sizes), (list(generator(n)) for n in sizes) ))"
   ]
  },
  {
   "cell_type": "markdown",
   "id": "34fd7a49-1366-4d40-a36e-fab9168be4ab",
   "metadata": {},
   "source": [
    "Now check how much space you have free on your hard-drive and update the following line in consequence if needed. By default 10 files (nb_files) are created with increasing size from 10 MB to 100 MiB, for example use `generate_all_databases(1000000)` to generate files only up to 1 MiB of data and `generate_all_databases(1000000000)` for generating files up to 1 GB of data. Count ~20seconds for 100 MB max.\n",
    "\n",
    "Execute the following (be default about 500 MiB of disk space is required):"
   ]
  },
  {
   "cell_type": "code",
   "execution_count": 5,
   "id": "8fd0bbe9-0938-41d9-a758-22ad79a7710b",
   "metadata": {},
   "outputs": [],
   "source": [
    "generate_all_databases(M, N)"
   ]
  },
  {
   "cell_type": "markdown",
   "id": "e1ad5db1",
   "metadata": {},
   "source": [
    "### Example of using the \"compare\" function\n",
    "\n",
    "In the tutorial, you will be asked to compare different implementation. You can use for that the compare utility function written above.  \n",
    "\n",
    "The function typically takes as argument:  \n",
    "- pairs of the form (\"name of the function for legend plot\", *func_n*) where *func_n* is a function taking a parameter *n* and returning a function that we want to measure time for input n\n",
    "- minsize [optional] controls the size of the first iteration. By default this is \"M1\" (execute the following line to see the value set for the first iteration)"
   ]
  },
  {
   "cell_type": "code",
   "execution_count": 3,
   "id": "23589dfb",
   "metadata": {},
   "outputs": [
    {
     "data": {
      "text/plain": [
       "100000"
      ]
     },
     "execution_count": 3,
     "metadata": {},
     "output_type": "execute_result"
    }
   ],
   "source": [
    "M1"
   ]
  },
  {
   "cell_type": "markdown",
   "id": "b1235b1d",
   "metadata": {},
   "source": [
    "- iterations [optional] controls how far will the test go. By default, 10 iterations are run with *n* taking the following values:"
   ]
  },
  {
   "cell_type": "code",
   "execution_count": 4,
   "id": "f04cf7ec",
   "metadata": {},
   "outputs": [
    {
     "data": {
      "text/plain": [
       "[100000,\n",
       " 200000,\n",
       " 300000,\n",
       " 400000,\n",
       " 500000,\n",
       " 600000,\n",
       " 700000,\n",
       " 800000,\n",
       " 900000,\n",
       " 1000000,\n",
       " 1100000,\n",
       " 1200000,\n",
       " 1300000,\n",
       " 1400000,\n",
       " 1500000,\n",
       " 1600000,\n",
       " 1700000,\n",
       " 1800000,\n",
       " 1900000,\n",
       " 2000000]"
      ]
     },
     "execution_count": 4,
     "metadata": {},
     "output_type": "execute_result"
    }
   ],
   "source": [
    "minsize, iterations = M1, 10\n",
    "#[M1*(x+1) for x in range(iterations)]\n",
    "sizes"
   ]
  },
  {
   "cell_type": "markdown",
   "id": "0b997dca",
   "metadata": {},
   "source": [
    "- repetition [optional] how many times \"func_n(n)()\" will be called to calculate how long it takes (timeit library)\n",
    "\n",
    "Here is a minimalist example how to use it, comparing the function that calculates 2n with the one that calculates 2^n:"
   ]
  },
  {
   "cell_type": "code",
   "execution_count": 5,
   "id": "9179a8a7",
   "metadata": {},
   "outputs": [
    {
     "data": {
      "image/png": "[encoded data removed]",
      "text/plain": [
       "<Figure size 432x288 with 1 Axes>"
      ]
     },
     "metadata": {
      "needs_background": "light"
     },
     "output_type": "display_data"
    }
   ],
   "source": [
    "compare( (\"Compute 2*n\", lambda n: lambda: 2*n),\n",
    "         (\"Compute 2**n\", lambda n: lambda: 2**n),\n",
    "        iterations=10)"
   ]
  },
  {
   "cell_type": "markdown",
   "id": "59571126",
   "metadata": {},
   "source": [
    "# Part 1 -- Remember your DATA structures' complexities\n",
    "\n",
    "The first and perhaps foremost step in making your scripts efficient to always keep in mind the cost of different operations with different data structures, and pick the most appropriate for your task at hand. If you are programming in python the following table should always be somewhere in your mind\n",
    "\n",
    "https://wiki.python.org/moin/TimeComplexity\n",
    "\n",
    "Re-check the difference between *average case* and *amortized worst case* if needed.\n",
    "\n",
    "Let's make a couple of examples to see the importance of picking the right data structure for your job."
   ]
  },
  {
   "cell_type": "markdown",
   "id": "da61aa44",
   "metadata": {},
   "source": [
    "## Example (A): Popping an element from a list\n",
    "\n",
    "This example can serve as the archetypal case where the wrong choice of datastructure has a very significant impact. Basically, after observing that appening and popping an element from the end of a Python list (as with a stack data structure) are amortized constant time operation, you wrongly assumed popping from the beginning of the list would be an operation enjoying a similar cost. This is not the case!\n",
    "\n",
    "Notice first that removing an element from a list is at least as costly as popping an element as you can write the latter using the former: `del L[0]` in lieu of `L.pop(0)`.\n",
    "\n",
    "Usually a simple trick consist to build and update the list in the opposite direction so that popping will be a constant-time operation. In general, the appropriate data structure to use when popping can come from both sides is called `deque` from the `collections` library. \n",
    "\n",
    "Let's make a small example to appreciate the cost of each, execute the following cell to add definitions for two possible implementations.\n"
   ]
  },
  {
   "cell_type": "code",
   "execution_count": 11,
   "id": "f2ca46f8",
   "metadata": {},
   "outputs": [],
   "source": [
    "from collections import deque\n",
    "\n",
    "\"\"\"\n",
    "    Each function below 'pops' one-fourth of the list/queue, one element at the time.\n",
    "\"\"\"\n",
    "\n",
    "def pop_one_quarter_list(L):\n",
    "    for _ in range(len(L)//4):\n",
    "        L.pop(0)\n",
    "\n",
    "def pop_one_quarter_queue(L):\n",
    "    for _ in range(len(L)//4):\n",
    "        L.popleft()\n",
    "    "
   ]
  },
  {
   "cell_type": "markdown",
   "id": "f742274d",
   "metadata": {},
   "source": [
    "### Question 1 (guided example question)\n",
    "\n",
    "Using *compare*, generate a small comparison plot between the time taken by the two implementations using eg iterations=4. "
   ]
  },
  {
   "cell_type": "markdown",
   "id": "7dc672c5",
   "metadata": {},
   "source": [
    "To answer the question, we need to write a piece of code that will test the 'pop_one_quarter_list'. For that, we can use the lists that were already created at the beginning (in Part 0) but then executing the cell will have the side-effect of emptying those lists. Instead let's creat a new list / queue during the test for each implementation.\n",
    "\n",
    "Let's make an example:"
   ]
  },
  {
   "cell_type": "code",
   "execution_count": 12,
   "id": "ed37ea2b",
   "metadata": {},
   "outputs": [],
   "source": [
    "# generate a list of size n, then pops 1/4th of the list from the left, then return the truncated list\n",
    "def poping_from_list(n):\n",
    "    list_of_size_n = list(generator(n))\n",
    "    pop_one_quarter_list(list_of_size_n)\n",
    "    return list_of_size_n\n",
    "\n",
    "# needs to return a callable, this is similar to the expected input to 'timeit'\n",
    "def test_callable(n, my_callable): \n",
    "    def my_callable_without_parameter():\n",
    "        return my_callable(n)\n",
    "    return my_callable_without_parameter\n",
    "\n",
    "# let's test it does generate what we want with a list of size 12 (3 elements to pop)\n",
    "test_function_to_call = test_callable(12, poping_from_list)"
   ]
  },
  {
   "cell_type": "markdown",
   "id": "9a6c193a",
   "metadata": {},
   "source": [
    "Now that we have generated a function to test for size 12, let's check that it works (the list should have only 9 elements left):"
   ]
  },
  {
   "cell_type": "code",
   "execution_count": 14,
   "id": "71221bdc",
   "metadata": {
    "scrolled": true
   },
   "outputs": [
    {
     "data": {
      "text/plain": [
       "9"
      ]
     },
     "execution_count": 14,
     "metadata": {},
     "output_type": "execute_result"
    }
   ],
   "source": [
    "len(test_function_to_call())"
   ]
  },
  {
   "cell_type": "markdown",
   "id": "8ffe75ce",
   "metadata": {},
   "source": [
    "Let's write now the equivalent code for a queue:"
   ]
  },
  {
   "cell_type": "code",
   "execution_count": 13,
   "id": "e0e624e1",
   "metadata": {},
   "outputs": [],
   "source": [
    "from collections import deque\n",
    "\n",
    "def poping_from_queue(n):\n",
    "    queue_of_size_n = deque(generator(n))\n",
    "    pop_one_quarter_queue(queue_of_size_n)\n",
    "    return queue_of_size_n"
   ]
  },
  {
   "cell_type": "markdown",
   "id": "6aad3bee",
   "metadata": {},
   "source": [
    "Let's check that it also works with a queue of size 12:"
   ]
  },
  {
   "cell_type": "code",
   "execution_count": 15,
   "id": "ef29c0ec",
   "metadata": {},
   "outputs": [
    {
     "name": "stdout",
     "output_type": "stream",
     "text": [
      "and the popped queue has now size... 9 !\n"
     ]
    }
   ],
   "source": [
    "test_function_to_call = test_callable(12, poping_from_queue)\n",
    "\n",
    "print(\"and the popped queue has now size...\", len(test_function_to_call()), \"!\")"
   ]
  },
  {
   "cell_type": "markdown",
   "id": "caa5a94c",
   "metadata": {},
   "source": [
    "We can now try to compare the time used by both functions 'poping_from_list' and 'poping_from_queue' (each includes also the generation time). \n",
    "\n",
    "For that, let's use the compare function with 20 iterations starting from a size of 1000 elements, and we'll repeat each experiment 3 times. \n",
    "\n",
    "That means we are going to use the following sizes:"
   ]
  },
  {
   "cell_type": "code",
   "execution_count": 16,
   "id": "bbe15d57",
   "metadata": {},
   "outputs": [
    {
     "name": "stdout",
     "output_type": "stream",
     "text": [
      "1000 2000 3000 4000 5000 6000 7000 8000 9000 10000 11000 12000 13000 14000 15000 16000 17000 18000 19000 20000\n"
     ]
    }
   ],
   "source": [
    "print(*list(test_sizes(1000, 20)))"
   ]
  },
  {
   "cell_type": "code",
   "execution_count": 19,
   "id": "9d5cba89",
   "metadata": {},
   "outputs": [
    {
     "data": {
      "image/png": "[encoded data removed]",
      "text/plain": [
       "<Figure size 432x288 with 1 Axes>"
      ]
     },
     "metadata": {
      "needs_background": "light"
     },
     "output_type": "display_data"
    }
   ],
   "source": [
    "def test_pop_list(n):\n",
    "    return test_callable(n, poping_from_list)\n",
    "\n",
    "def test_pop_queue(n):\n",
    "    return test_callable(n, poping_from_queue)\n",
    "\n",
    "compare((\"Popping from a list\", test_pop_list),\n",
    "         (\"From from a double-ended queue\", test_pop_queue),\n",
    "        minsize=1000,\n",
    "        iterations=5,\n",
    "        repetition=3)"
   ]
  },
  {
   "cell_type": "markdown",
   "id": "593ccd23",
   "metadata": {},
   "source": [
    "**[Question for the Canvas quiz]** Test with larger sizes (ie increase iterations). Which implementation is clearly faster?"
   ]
  },
  {
   "cell_type": "code",
   "execution_count": null,
   "id": "6c967ac7",
   "metadata": {},
   "outputs": [],
   "source": []
  },
  {
   "cell_type": "markdown",
   "id": "065ac7e3",
   "metadata": {},
   "source": [
    "#### Here is a short solution (aka example of using lambda functions in Python)\n",
    "\n",
    "All the code written in the cells above can be reduced by using lambda functions in python (short one-liner functions lacking a proper name used in a functional programming style):"
   ]
  },
  {
   "cell_type": "code",
   "execution_count": 20,
   "id": "b6d3a9b9",
   "metadata": {},
   "outputs": [
    {
     "data": {
      "image/png": "[encoded data removed]",
      "text/plain": [
       "<Figure size 432x288 with 1 Axes>"
      ]
     },
     "metadata": {
      "needs_background": "light"
     },
     "output_type": "display_data"
    }
   ],
   "source": [
    "compare((\"Popping from a list\", \n",
    "             lambda n: lambda: pop_one_quarter_list(list(generator(n)))),\n",
    "         (\"From from a double-ended queue\", \n",
    "              lambda n: lambda: pop_one_quarter_queue(deque(generator(n)))),\n",
    "        minsize=1000,\n",
    "        iterations=50,\n",
    "        repetition=1)"
   ]
  },
  {
   "cell_type": "markdown",
   "id": "e0fd5c49",
   "metadata": {},
   "source": [
    "## Example (b): Storing elements with a list (or matrix) or a dictionary (aka hashmap)?\n",
    "\n",
    "Let's have another example playing with the data structure's complexity, slightly more involved this time. Let's consider the following very common scenario: you have multi-dimmensional data that you must organize and you are hesitating between using a matrix based on lists or a Python dictionary. Let's assume for example you have 2D datapoints $(x,y)$ such $1 \\leq x, y \\leq n$ and each is associated with a certain value. An operation that you will often have to do is for example to sum all the values and you are wondering which data structure is better to store the datapoints (it is assumed here that datapoints have also often to be modified so we don't want a structure dedicated to calculate the sum, such as simly the list of values).\n",
    "\n",
    "Here is a typical example where the answer is not binary. Using a dictionary might seem the best option as only values stored are accessed, but consider that going through all values is more costly than looping through an equivalent size list.\n",
    "\n",
    "Let's have a look how they perform on an example."
   ]
  },
  {
   "cell_type": "code",
   "execution_count": 66,
   "id": "d7ae0df2",
   "metadata": {},
   "outputs": [],
   "source": [
    "from math import sqrt\n",
    "\n",
    "\"\"\"\n",
    "    Here 'n' is the total range for the 2D-point as explained above.\n",
    "    And 'i' is how many random items to add to the datastructure.\n",
    "\"\"\"\n",
    "\n",
    "def using_dict(n,i):\n",
    "    n, i = int(sqrt(n)), int(sqrt(i))\n",
    "    d = {}\n",
    "    for a in range(i):\n",
    "        for b in range(i):\n",
    "            d[(a,b)] = random()    \n",
    "    sum(d.values())\n",
    "    \n",
    "def using_lists(n,i):\n",
    "    n, i = int(sqrt(n)), int(sqrt(i))\n",
    "    L = [[0]*n for _ in range(n)]\n",
    "    for a in range(i):\n",
    "        for b in range(i):\n",
    "            L[a][b] = random()    \n",
    "    sum(x for row in L for x in row)"
   ]
  },
  {
   "cell_type": "markdown",
   "id": "98bd66e9",
   "metadata": {},
   "source": [
    "### Question 2\n",
    "\n",
    "Compare both implementations by adding different number of items to the datastructure. Depending how fast your machine is, you can use eg iterations=12 here.\n",
    "\n",
    "Which one is faster and from how much data?"
   ]
  },
  {
   "cell_type": "markdown",
   "id": "c8f7798f-d047-42b7-8616-69bd2bb1e74d",
   "metadata": {},
   "source": [
    "# Part 2 -- Remember to stream your DATA\n",
    "\n",
    "Python includes a well-designed mecanism to stream data called generators. Using generators allows to alleviate the use of allocating a structure to hold data if not needed; for example, almost all Python built-in functions (min/max, sum, iteration functions etc) use iterators by default avoiding in many situations the need of storing data.\n",
    "\n",
    "Let's make a simple example to vizualize how this can make your code more efficient. Streaming takes its full adventage when alleviating the allocation of huge memory space. Here is an example where we check how to retrieve the argmin from a certain list, in one example where we allocate the list in memory and in the second where we use streaming directly on the generator producing data. On top of being faster, the streaming implementation avoided the allocation of about ~10GB of memory (with `minsize=50_000_000`)."
   ]
  },
  {
   "cell_type": "code",
   "execution_count": 15,
   "id": "8379fde8",
   "metadata": {},
   "outputs": [],
   "source": [
    "\"\"\"\n",
    "    Here are two implementations of the argmin function, that returns the minimum of the iterable L.\n",
    "    \n",
    "    The first function 'argmin' assumes L is a list, hence can be adressed via eg L[0] etc.\n",
    "    \n",
    "    The second function 'argmin_streaming' does not make this assumption and just iterates through the iterable.\n",
    "\"\"\"\n",
    "\n",
    "def argmin(L):\n",
    "    argminL, minL = 0, L[0]\n",
    "    for i in range(1, len(L)):\n",
    "        if L[i] < minL:\n",
    "            argminL, minL = i, L[i]\n",
    "    return argminL\n",
    "\n",
    "def argmin_streaming(L):\n",
    "    argminL, minL = 0, next(L)\n",
    "    for i, elem in enumerate(L):\n",
    "        if elem < minL:\n",
    "            argminL, minL = 1+i, elem\n",
    "    return argminL"
   ]
  },
  {
   "cell_type": "markdown",
   "id": "aaf501a6",
   "metadata": {},
   "source": [
    "In particular, if one does not have 10 GB free of memory, only the streaming version can be considered. For example, on my laptop with about 12 GB of free memory, `argmin_streaming(generator(350_000_000))` does not pose any problem whereas `argmin(generator(350_000_000))` makes my computer fill up memory and swap up to the point of being killed by the OS, jupyter seeing the process as a still running cell.\n",
    "\n",
    "The above example could also serve as a reminder for not reinventing the wheel, especially in Python! For example the function argmin is alrady provided by numpy! Let's compare different versions of the argmin function:"
   ]
  },
  {
   "cell_type": "code",
   "execution_count": 5,
   "id": "6fd3fe07",
   "metadata": {},
   "outputs": [],
   "source": [
    "from math import sin, cos\n",
    "import numpy as np\n",
    "\n",
    "\"\"\"\n",
    "    Here are 4 different implementations of the 'argmin' function.\n",
    "\"\"\"\n",
    "\n",
    "def argmin_lazy(L):\n",
    "    return L.index(min(L))\n",
    "\n",
    "def argmin(L):\n",
    "    argminL, minL = 0, L[0]\n",
    "    for i in range(1, len(L)):\n",
    "        if L[i] < minL:\n",
    "            argminL, minL = i, L[i]\n",
    "    return argminL\n",
    "\n",
    "def argmin_streaming(L):\n",
    "    argminL, minL = 0, next(L)\n",
    "    for i, elem in enumerate(L):\n",
    "        if elem < minL:\n",
    "            argminL, minL = 1+i, elem\n",
    "    return argminL\n",
    "\n",
    "def argmin_streaming2(L):\n",
    "    return min((elem, i) for i, elem in enumerate(L))[1]\n",
    "\n",
    "\"\"\"\n",
    "    Example of input to test with.\n",
    "\"\"\"\n",
    "\n",
    "def example_generator(n):\n",
    "    for x in lists[n]:\n",
    "        yield sin(x)*cos(x)\n",
    "        \n",
    "def example_list(n):\n",
    "    return list(example_generator(n))\n"
   ]
  },
  {
   "cell_type": "markdown",
   "id": "0554d204",
   "metadata": {},
   "source": [
    "### Question 3\n",
    "\n",
    "Which implementation is faster?\n",
    "\n",
    "*(Don't hesitate to go up to iterations=20 here!)*"
   ]
  },
  {
   "cell_type": "markdown",
   "id": "f1299e0a",
   "metadata": {},
   "source": [
    "#  Part 3 -- Remember to use multiprocessing for repetitive tasks\n",
    "\n",
    "Python is an interpreted language where the interpreter has historically been a monocore process (at least till now but discussions are ongoing on removing in the future the infamous *GIL*, https://www.infoworld.com/article/3704248/python-moves-to-remove-the-gil-and-boost-concurrency.html). \n",
    "\n",
    "You will therefore not have anything like real “multithreading” in Python. However, Python has made lots of facilities for “multiprocessing” that is running several programs in parallel. This makes things that are easily parallelizable very fast to implement. \n",
    "\n",
    "Typical tasks that are very easy parallelizable include aggregate functions like min/max, sum/average etc and results from simulations. Let's have a further look at the latter, which is one of the main tasks where scripts come into play. \n",
    "\n",
    "For this example, we assume a fake function called `complicated_simulation(n)` that will serve as a dummy function for what we are interested in simulating (eg a program that we want to measure execution time, the output of a random algorithm etc). Our call is execution `nb_runs` and output the average of all simulations, and we will simulate our funciton for increasing values of `nb_runs`.\n",
    "\n",
    "Let's compare a sequential implementation to a parallel one."
   ]
  },
  {
   "cell_type": "code",
   "execution_count": 70,
   "id": "ce6cc32c",
   "metadata": {},
   "outputs": [
    {
     "data": {
      "image/png": "[encoded data removed]",
      "text/plain": [
       "<Figure size 432x288 with 1 Axes>"
      ]
     },
     "metadata": {
      "needs_background": "light"
     },
     "output_type": "display_data"
    }
   ],
   "source": [
    "from math import sin, cos, sqrt\n",
    "import multiprocessing as mp\n",
    "\n",
    "\"\"\"\n",
    "    Here are:\n",
    "        -a dummy slow simulation function 'complicated_simulation'\n",
    "        -a macro to calculate the average of 'nb_runs' of the complicated function\n",
    "        -another macro to calculate the same but using 'nb_processes' different processes\n",
    "\"\"\"\n",
    "\n",
    "def complicated_simulation(n):\n",
    "    return sqrt(n)*random()/(cos(random())*sin(random()))\n",
    "\n",
    "def avg_simulations(nb_runs):\n",
    "    return sum(complicated_simulation(nb_runs) for _ in range(nb_runs))/nb_runs\n",
    "\n",
    "def avg_sim_parallel(nb_runs, nb_processes):\n",
    "    with mp.Pool(processes=nb_processes) as pool:\n",
    "        return sum(pool.map(avg_simulations, [nb_runs//nb_processes]*nb_processes, 1))/nb_processes\n",
    "        \n",
    "# running time with 1 (single process) to 4 processes (multiprocessing)\n",
    "\n",
    "compare((\"Sequential implementation\", lambda n: lambda: avg_simulations(n)),\n",
    "        (\"Parallel implementation, 2 processes\", lambda n: lambda: avg_sim_parallel(n, 2)),\n",
    "        (\"Parallel implementation, 3 processes\", lambda n: lambda: avg_sim_parallel(n, 3)),\n",
    "        (\"Parallel implementation, 4 processes\", lambda n: lambda: avg_sim_parallel(n, 4)),\n",
    "        (\"Parallel implementation, 8 processes\", lambda n: lambda: avg_sim_parallel(n, 8)),\n",
    "        iterations=15, repetition=2)\n"
   ]
  },
  {
   "cell_type": "markdown",
   "id": "ad1c8603",
   "metadata": {},
   "source": [
    "### Question 4\n",
    "\n",
    "Check how many cores are available on your machine and compare the time needed by the above calculations when using different number of processes.\n",
    "\n",
    "Is it always faster to use more processes?"
   ]
  },
  {
   "cell_type": "markdown",
   "id": "b610da77",
   "metadata": {},
   "source": [
    "### GIL's removal in latest Python!\n",
    "\n",
    "In [Python's version 3.13](https://www.python.org/downloads/) (released **October 8th, 2024**), the GIL can be dsiabled at runtime by setting the environment variable `PYTHONGIL` to 0.\n",
    "\n",
    "This has the direct effect of introducing *real* multithreading in Python. Some interesting articles with further explanations:\n",
    "- https://www.lesinskis.com/python-GIL-removal.html\n",
    "- https://medium.com/@mitesh.singh.jat/gil-becomes-optional-in-python-3-13-a-game-changer-for-multithreading-4c5d28856803\n",
    "- https://medium.com/@r_bilan/python-3-13-without-the-gil-a-game-changer-for-concurrency-5e035500f0da"
   ]
  },
  {
   "cell_type": "markdown",
   "id": "a46d8188",
   "metadata": {},
   "source": [
    "# Part 4 -- Remember the different types of memory\n",
    "\n",
    "Always keep in mind that access to the file system is order of magnitude slower than access to main memory. This can sound obvious but tentation can be great to re-again some data from disk to not have to store it somewhere in memory, but this is in general a bad idea."
   ]
  },
  {
   "cell_type": "markdown",
   "id": "8f9de18d",
   "metadata": {},
   "source": [
    "### Question 5\n",
    "\n",
    "Write a small simple experiment to show the difference between:\n",
    "- generating a random list of size n\n",
    "- reading an already generated list from disk\n",
    "\n",
    "Which one is faster in general? And on your machine? Is there a big difference for eg iterations=10?"
   ]
  },
  {
   "cell_type": "markdown",
   "id": "0cd099b5",
   "metadata": {},
   "source": [
    "# Part 5 -- Remember to load efficiently your DATA in memory\n",
    "\n",
    "An important part of scripting consists in saving data on disk and loading data into memory. When developping a script, you might encouter the situation where for every run of the script you need to reload from disk a (huge) database. Waiting for the data to load removes precious seconds of a developper time. Here let's see how we can make the process faster.\n",
    "\n",
    "\n",
    "## Serializing data in Python\n",
    "\n",
    "We assume that you have some database to load in memory for the purpose of your script. For that purpose, we will use the fake databases that we have generated at the beginning. We will assume that you already have a parser function reading the data on disk and generating a Python object, that is more or less anything that can be stored in a variable in Python.\n",
    "\n",
    "For next run of your script, instead of reading from the disk again the data that requires parsing, you can recreate in memory the Python object that resulted from the parsing. For that to work, we need to serialize the object in the first place then deserialize when we need it, and the Python library for such jobs is called `pickle`.\n",
    "\n",
    "Let's make a simple example with the fake databases and let's compare the loading time with parsing from disk. \n",
    "\n",
    "\n"
   ]
  },
  {
   "cell_type": "code",
   "execution_count": 36,
   "id": "5aa0e65f",
   "metadata": {},
   "outputs": [],
   "source": [
    "import pickle\n",
    "\n",
    "\"\"\"\n",
    "    Some short utils to save / load files\n",
    "\"\"\"\n",
    "\n",
    "def savedump(myobj, filename):\n",
    "    with open(filename,'wb') as f:\n",
    "        pickle.dump(myobj, f)\n",
    "\n",
    "def loaddump(filename):\n",
    "    with open(filename,'rb') as f:\n",
    "        return pickle.load(f)\n",
    "    \n",
    "\"\"\"\n",
    "    The following loads the generated databases in memory\n",
    "\"\"\"\n",
    "    \n",
    "my_db = {}\n",
    "\n",
    "def load_database(n):\n",
    "    my_db[n] = list(file2stream(f\"data{n}.csv\"))\n"
   ]
  },
  {
   "cell_type": "markdown",
   "id": "3c9934db",
   "metadata": {},
   "source": [
    "### Question 6\n",
    "\n",
    "Compare the time to execute `load_database(n)` (parsing the file from disk) with saving the file on disk with `savedump` and loading the binary into memory with `loaddump`.\n",
    "\n",
    "So which implementation is faster and by how much?"
   ]
  },
  {
   "cell_type": "markdown",
   "id": "65e38167",
   "metadata": {},
   "source": [
    "## Finding an old dump\n",
    "\n",
    "One downside of taking the habit of dumping large amount of data from possibly complicated Python objects is that the dump is completely dependent on how the object was constructed in the first place and it might be tricky without documentation to retrieve the version of the software that was used to generate a particular dump. For very large data taking considerable amount of time to generate, the old dump is not useless but using <a href=\"https://book.pythontips.com/en/latest/object_introspection.html\">introspection</a>, we can explore the data structure and for example, convert it to a more appropriate format/object."
   ]
  },
  {
   "cell_type": "code",
   "execution_count": 15,
   "id": "bc036de4",
   "metadata": {},
   "outputs": [
    {
     "data": {
      "text/plain": [
       "['__add__',\n",
       " '__class__',\n",
       " '__contains__',\n",
       " '__delattr__',\n",
       " '__delitem__',\n",
       " '__dir__',\n",
       " '__doc__',\n",
       " '__eq__',\n",
       " '__format__',\n",
       " '__ge__',\n",
       " '__getattribute__',\n",
       " '__getitem__',\n",
       " '__gt__',\n",
       " '__hash__',\n",
       " '__iadd__',\n",
       " '__imul__',\n",
       " '__init__',\n",
       " '__init_subclass__',\n",
       " '__iter__',\n",
       " '__le__',\n",
       " '__len__',\n",
       " '__lt__',\n",
       " '__mul__',\n",
       " '__ne__',\n",
       " '__new__',\n",
       " '__reduce__',\n",
       " '__reduce_ex__',\n",
       " '__repr__',\n",
       " '__reversed__',\n",
       " '__rmul__',\n",
       " '__setattr__',\n",
       " '__setitem__',\n",
       " '__sizeof__',\n",
       " '__str__',\n",
       " '__subclasshook__',\n",
       " 'append',\n",
       " 'clear',\n",
       " 'copy',\n",
       " 'count',\n",
       " 'extend',\n",
       " 'index',\n",
       " 'insert',\n",
       " 'pop',\n",
       " 'remove',\n",
       " 'reverse',\n",
       " 'sort']"
      ]
     },
     "execution_count": 15,
     "metadata": {},
     "output_type": "execute_result"
    }
   ],
   "source": [
    "data = loaddump(\"data100000.dump\")\n",
    "dir(data)"
   ]
  },
  {
   "cell_type": "markdown",
   "id": "1a7c8e92",
   "metadata": {},
   "source": [
    "## And watch out when using copy and deepcopy of your objects\n",
    "\n",
    "Copying object is often both needed and in the same time an important source of execution time. Let's make a simple example to explore the deepcopy mecanism built-in in Python's library."
   ]
  },
  {
   "cell_type": "code",
   "execution_count": 9,
   "id": "7a6a338c",
   "metadata": {},
   "outputs": [],
   "source": [
    "from copy import copy, deepcopy\n",
    "\n",
    "\"\"\"\n",
    "    Here is a simple class object that stores a list of numbers (here generated at random on its creation)\n",
    "\"\"\"\n",
    "\n",
    "class MyObject:\n",
    "    def __init__(self, n):\n",
    "        self.mylist = [random() for _ in range(n)]"
   ]
  },
  {
   "cell_type": "markdown",
   "id": "cc9b6195",
   "metadata": {},
   "source": [
    "Remember the difference between a shallow copy (copy using references only) and a deep copy (all objects are copied in a recursive fashion). For example, consider the below code where the copy was only shallow:"
   ]
  },
  {
   "cell_type": "code",
   "execution_count": 10,
   "id": "aa4d9673",
   "metadata": {},
   "outputs": [
    {
     "name": "stdout",
     "output_type": "stream",
     "text": [
      "0.904298995162786\n"
     ]
    },
    {
     "data": {
      "text/plain": [
       "42"
      ]
     },
     "execution_count": 10,
     "metadata": {},
     "output_type": "execute_result"
    }
   ],
   "source": [
    "x = MyObject(10)\n",
    "print(x.mylist[0])\n",
    "y = copy(x)\n",
    "x.mylist[0] = 42\n",
    "y.mylist[0]"
   ]
  },
  {
   "cell_type": "markdown",
   "id": "c6ea1b2f",
   "metadata": {},
   "source": [
    "And compare it to the same example with a deep copy:"
   ]
  },
  {
   "cell_type": "code",
   "execution_count": 11,
   "id": "38a52694",
   "metadata": {},
   "outputs": [
    {
     "name": "stdout",
     "output_type": "stream",
     "text": [
      "0.04291526354148956\n"
     ]
    },
    {
     "data": {
      "text/plain": [
       "0.04291526354148956"
      ]
     },
     "execution_count": 11,
     "metadata": {},
     "output_type": "execute_result"
    }
   ],
   "source": [
    "x = MyObject(10)\n",
    "print(x.mylist[0])\n",
    "y = deepcopy(x)\n",
    "x.mylist[0] = 42\n",
    "y.mylist[0]"
   ]
  },
  {
   "cell_type": "markdown",
   "id": "55fe8db4",
   "metadata": {},
   "source": [
    "Let's compare the efficiency of the deepcopy function from the copy module with a naive ad hoc based copy:"
   ]
  },
  {
   "cell_type": "code",
   "execution_count": 12,
   "id": "34aa4b27",
   "metadata": {},
   "outputs": [],
   "source": [
    "\"\"\"\n",
    "    Object inherited from parent object 'MyObject' with one additional method: 'copy_my_object'\n",
    "\"\"\"\n",
    "\n",
    "class MyObjectWithCopy(MyObject):\n",
    "    def copy_my_object(self):\n",
    "        a = MyObject(0)\n",
    "        a.mylist = self.mylist[:] \n",
    "        return a"
   ]
  },
  {
   "cell_type": "markdown",
   "id": "39312096",
   "metadata": {},
   "source": [
    "### Question 7\n",
    "\n",
    "In this example, which implementation is faster?"
   ]
  },
  {
   "cell_type": "markdown",
   "id": "580b8791",
   "metadata": {},
   "source": [
    "# Part 6 -- Remember that DATA representation does always matter\n",
    "\n",
    "We will compare here the time for *pickle-ing* a huge binary file and the time to parse a ASCII-formatted database.\n",
    "\n",
    "In this example, we'll use our initial database. \n",
    "\n",
    "Converting to floats will keep roughly speaking the first 7 digits correct in the decimal extension whereas our database had 10 decimal precision; for many applications, such a conversion will have no impact. If more digits are needed, we can pack the Python floating point objects to \"double\" using 8 bytes instead of only 4; this way, we can keep up to 15 digits and encode *almost* exactly our data (*almost* because there will always be a small error due to the conversion).\n",
    "\n"
   ]
  },
  {
   "cell_type": "code",
   "execution_count": 3,
   "id": "8bf2f008",
   "metadata": {},
   "outputs": [],
   "source": [
    "import struct\n",
    "\n",
    "\"\"\"\n",
    "    Here are two methods to read / load a dataset in binary format\n",
    "\"\"\"\n",
    "\n",
    "def stream2binfile(data, filename):\n",
    "    with open(filename, \"wb\") as outputfile:\n",
    "        for record in data:\n",
    "            outputfile.write(bytes.fromhex(record[0]))\n",
    "            for i in range(3):\n",
    "                outputfile.write(struct.pack(\"f\", record[1+i]))\n",
    "                \n",
    "def binfile2stream(filename):\n",
    "    with open(filename, \"rb\") as file:\n",
    "        record = file.read(42)\n",
    "        while record:\n",
    "            yield record[:30].hex(), *[struct.unpack(\"f\", record[30+i*4:30+(i+1)*4])[0] for i in range(3)]\n",
    "            record = file.read(42)\n",
    "            \n",
    "\"\"\"\n",
    "    We'll generate binary versions of our example database with the following.\n",
    "\"\"\"\n",
    "\n",
    "def generate_bin_databases(max_size_in_bytes=100_000_000, nb_files=10):\n",
    "    for i in range(1,nb_files+1):\n",
    "        n = i*max_size_in_bytes//(100*nb_files)\n",
    "        stream2binfile(generate_database(n), f\"data{n}.bin\")\n",
    "        \n",
    "generate_bin_databases() "
   ]
  },
  {
   "cell_type": "markdown",
   "id": "1ad613d0",
   "metadata": {},
   "source": [
    "Let's then compare the two strategies, first in terms of space: the second one using 42 bytes instead 100 per data point, generates of course a database 42% of the original size. If doubles were used, 54% uld be reached instead.\n",
    "Now let's compare in terms of loading time, will we experience also only 42% loading time?"
   ]
  },
  {
   "cell_type": "markdown",
   "id": "e58e3046",
   "metadata": {},
   "source": [
    "### Question 8\n",
    "\n",
    "Which implementation is faster here to load data?"
   ]
  },
  {
   "cell_type": "markdown",
   "id": "3aa3a907",
   "metadata": {},
   "source": [
    "# Part 7 -- Final summary exercise\n",
    "\n",
    "To test if you have learned some good tricks, write a short script to generate a small toy dataset and see if you can apply most of the tips mentioned in the tutorial.\n",
    "\n",
    "### Final exercise\n",
    "\n",
    "Imagine you need to generate some data for (stress-)testing some software you have recently starting using.\n",
    "\n",
    "The data is made of objects of two types: *stores* and *clients*.\n",
    "\n",
    "To generate a dataset of size **(N,M)**, place **N** stores and **M** clients on random poisitions over a map of size **L times L**.\n",
    "\n",
    "Write a script that generate an easily loadable dataset that retrieves for each store, the list of clients within radius $\\Delta = \\sqrt{ \\frac{L^2}{k * \\pi} }$, where k is a parameter indicating that on average stores will be close to 1/k of all clients. \n",
    "\n",
    "Set L=100 and k=10 by deault.\n",
    "\n",
    "Test your script by generating datasets of sizes from (10,100), (100,1000), ..., (10000,100000) and use a progress bar/counter to indicate progress during the generation (see part8/appendix if needed). \n",
    "\n",
    "*(It'd better be efficient!)*"
   ]
  },
  {
   "cell_type": "markdown",
   "id": "36756b6c",
   "metadata": {},
   "source": [
    "# Part 8 -- Appendix: some more diverse Python tricks\n",
    "\n",
    "*(part still under construction for now)*\n",
    "\n",
    "Here is a list of diverse tips about Python programming."
   ]
  },
  {
   "cell_type": "markdown",
   "id": "ec155b47",
   "metadata": {},
   "source": [
    "### \"Dynamic\" printing in terminal output\n",
    "\n",
    "Writing a \"progress bar/counter\" is much easier than people think... quite useful for slow processes. Also consider having intermediate/regular disk outputs so that results are not lost in case the script is interrupted."
   ]
  },
  {
   "cell_type": "code",
   "execution_count": 28,
   "id": "1ef46c18",
   "metadata": {},
   "outputs": [
    {
     "name": "stdout",
     "output_type": "stream",
     "text": [
      "100 % of computational task has been completed.\r"
     ]
    }
   ],
   "source": [
    "from time import sleep\n",
    "\n",
    "for i in range(101):\n",
    "    print(i, \"% of computational task has been completed.\", end='\\r')\n",
    "    sleep(0.05)"
   ]
  },
  {
   "cell_type": "markdown",
   "id": "181da876",
   "metadata": {},
   "source": [
    "### Accessing the history of the interactive interpreter\n",
    "\n",
    "Whether you are using the jupyter notebook and a more traditional interactive interpreter such as idle, you can use the variable _ to access the last value displayed in (practical to avoid running a lengthy computation).\n",
    "\n",
    "For example, execute the following:"
   ]
  },
  {
   "cell_type": "code",
   "execution_count": 32,
   "id": "00dc8695",
   "metadata": {},
   "outputs": [
    {
     "data": {
      "text/plain": [
       "[0.0,\n",
       " 0.4546487134128409,\n",
       " -0.37840124765396416,\n",
       " -0.13970774909946293,\n",
       " 0.4946791233116909,\n",
       " -0.2720105554446849,\n",
       " -0.26828645900021747,\n",
       " 0.4953036778474351,\n",
       " -0.14395165833253265,\n",
       " -0.375493623385838,\n",
       " 0.4564726253638138,\n",
       " -0.004425654645201938,\n",
       " -0.4527891810033119,\n",
       " 0.38127922523980134,\n",
       " 0.13545289415393452,\n",
       " -0.4940158120464309,\n",
       " 0.2757133406208453,\n",
       " 0.2645413430600119,\n",
       " -0.49588942672155784,\n",
       " 0.14818428935469266,\n",
       " 0.37255658023967436,\n",
       " -0.4582607739578169,\n",
       " 0.008850962552706789,\n",
       " 0.45089417382440455,\n",
       " -0.3841273306618334,\n",
       " -0.13118742685196438,\n",
       " 0.4933137960202426,\n",
       " -0.27939452442580814,\n",
       " -0.260775501043456,\n",
       " 0.49643632404226856,\n",
       " -0.15240531055110834,\n",
       " -0.36959034832461146,\n",
       " 0.46001301909839537,\n",
       " -0.013275577011983397,\n",
       " -0.44896384034464565,\n",
       " 0.38694534077894455,\n",
       " 0.12691168138101813,\n",
       " -0.49257313023412375,\n",
       " 0.28305381844909017,\n",
       " 0.2569892279937676,\n",
       " -0.49694432696168767,\n",
       " 0.15661439121654258,\n",
       " 0.36659516003664605,\n",
       " -0.4617292235020299,\n",
       " 0.01769915136683034,\n",
       " 0.446998331800279,\n",
       " -0.38973303480790233,\n",
       " -0.12262599273382717,\n",
       " 0.4917938727171724,\n",
       " -0.28669093599521145,\n",
       " -0.2531828205548794,\n",
       " 0.49741339567920323,\n",
       " -0.16081120158126547,\n",
       " -0.3635712500404263,\n",
       " 0.46340925270889255,\n",
       " -0.022121339042535482,\n",
       " -0.44499780218341667,\n",
       " 0.39249019434065524,\n",
       " 0.11833069668214301,\n",
       " -0.4909760845220417,\n",
       " 0.29030559210615714,\n",
       " 0.24935657694819705,\n",
       " -0.49784349344458967,\n",
       " 0.164995412836891,\n",
       " 0.36051885525086574,\n",
       " -0.46505297509338084,\n",
       " 0.02654179357302912,\n",
       " 0.44296240822997424,\n",
       " -0.3952166033614444,\n",
       " -0.1140261297504306,\n",
       " 0.4901198297201558,\n",
       " -0.29389750358370326,\n",
       " -0.24551079694923464,\n",
       " 0.49823458656088687,\n",
       " -0.16916669716213825,\n",
       " -0.3574382148145823,\n",
       " 0.46666026187443094,\n",
       " -0.03096016862802866,\n",
       " -0.44089230940739055,\n",
       " 0.3979120482637276,\n",
       " 0.10971262918950238,\n",
       " -0.4892251753966898,\n",
       " 0.2974663890116043,\n",
       " 0.24164578186412827,\n",
       " -0.4985866443870399,\n",
       " 0.17332472774851515,\n",
       " 0.35432957009116134,\n",
       " -0.4682309871256067,\n",
       " 0.035376118040172586,\n",
       " 0.43878766790213447,\n",
       " -0.4005763178669152,\n",
       " -0.10539053295009576,\n",
       " 0.4882921916453147,\n",
       " -0.30101196877764164,\n",
       " -0.23776183450602917,\n",
       " 0.49889963934030007,\n",
       " -0.17746917882592317,\n",
       " -0.3511931646342461,\n",
       " 0.4697650277849657,\n",
       " -0.03978929583214176,\n",
       " -0.43664864860699726,\n",
       " 0.4032092034329152,\n",
       " 0.1010601796563956,\n",
       " -0.487320951562705,\n",
       " 0.30453396509553016,\n",
       " 0.2338592591713795,\n",
       " -0.4991735468983859,\n",
       " 0.18159972568818036,\n",
       " 0.34802924417245573,\n",
       " -0.4712622636647012,\n",
       " 0.044199356243765746,\n",
       " 0.43447541910817467,\n",
       " -0.40581049868248725,\n",
       " -0.09672190857950395,\n",
       " 0.4863115312428121,\n",
       " -0.30803210202668224,\n",
       " -0.22993836161607134,\n",
       " 0.4994083456014042,\n",
       " -0.18571604471846132,\n",
       " -0.3448380565901335,\n",
       " 0.4727225774605584,\n",
       " -0.04860595375911216,\n",
       " -0.432268149672136,\n",
       " 0.40837999981140427,\n",
       " 0.092376059610859,\n",
       " -0.4852640097709027,\n",
       " 0.3115061055018265,\n",
       " 0.22599944903149172,\n",
       " -0.49960401705353136,\n",
       " 0.18981781341465156,\n",
       " 0.3416198519079254,\n",
       " -0.47414585476102433,\n",
       " 0.053008743133556885,\n",
       " 0.43002701323228487,\n",
       " -0.41091750550641987,\n",
       " -0.0880229732356057,\n",
       " 0.4841784692173621,\n",
       " -0.31495570334248063,\n",
       " -0.22204283002045494,\n",
       " 0.49976054592445496,\n",
       " -0.19390471041461474,\n",
       " -0.33837488226319173,\n",
       " 0.47553198405629277,\n",
       " -0.057407379420833016,\n",
       " -0.4277521853754104,\n",
       " 0.4134228169610407,\n",
       " 0.08366299050591962,\n",
       " -0.48305499463126483,\n",
       " 0.3183806252822758,\n",
       " 0.21806881457302438,\n",
       " -0.49987791995057473,\n",
       " 0.19797641552137035,\n",
       " 0.3351034018902531,\n",
       " -0.47688085674699926,\n",
       " 0.061801518000056455,\n",
       " 0.4254438443279298,\n",
       " -0.41589573789110224,\n",
       " -0.07929645301428641,\n",
       " 0.48189367403371103,\n",
       " -0.32178060298813094,\n",
       " -0.21407771404222578,\n",
       " 0.499956129935963,\n",
       " -0.20203260972818035,\n",
       " -0.33180566710047166,\n",
       " 0.4781923671527313,\n",
       " -0.06619081460272597,\n",
       " -0.42310217094192576,\n",
       " 0.41833607455014726,\n",
       " 0.07492370286673909,\n",
       " -0.4806945984109304,\n",
       " 0.3251553700812763,\n",
       " 0.21006984111965343,\n",
       " -0.4999951697530855,\n",
       " 0.2060729752435425,\n",
       " 0.3284819362621698,\n",
       " -0.4794664125203066,\n",
       " 0.07057492533969568,\n",
       " 0.42072734868097633,\n",
       " -0.4207436357446054,\n",
       " -0.07054508265605493,\n",
       " 0.4794578617071532,\n",
       " -0.3285046621581233,\n",
       " -0.20604550981097175,\n",
       " 0.49999503634328135,\n",
       " -0.21009719551608838,\n",
       " -0.3251324697803881,\n",
       " 0.48070289303182423,\n",
       " -0.07495350672811787,\n",
       " -0.41831956360578176,\n",
       " 0.42311823284877226,\n",
       " 0.06616093543491423,\n",
       " -0.47818356081725083,\n",
       " 0.3318282168109798,\n",
       " 0.2020050354113138,\n",
       " -0.4999557297170032,\n",
       " 0.21410495525938428,\n",
       " 0.3217575300764827,\n",
       " -0.48190171181248487,\n",
       " 0.07932621571835378,\n",
       " 0.4158790043595867,\n",
       " -0.42545967981958827,\n",
       " -0.06177160468902321,\n",
       " 0.4768717955791435,\n",
       " -0.335125773648609,\n",
       " -0.19794873448057881,\n",
       " 0.49987725295381524,\n",
       " -0.21809594047663303,\n",
       " -0.3183573815675659,\n",
       " 0.48306277493818117,\n",
       " -0.08369270972085074,\n",
       " -0.4134058621534006,\n",
       " 0.4277677932112141,\n",
       " 0.05737743431020275,\n",
       " -0.47552266876597876,\n",
       " 0.33839707431663063,\n",
       " 0.19387692481863059,\n",
       " -0.4997596122021532,\n",
       " 0.22206983848527484,\n",
       " 0.3149322906457892,\n",
       " -0.4841859914428557,\n",
       " 0.088052646632983,\n",
       " 0.4109003307510171,\n",
       " -0.43004239218940354,\n",
       " -0.05297876856944549,\n",
       " 0.47413628607807934,\n",
       " -0.34164186251776174,\n",
       " -0.18978992544039874,\n",
       " 0.49960281667884165,\n",
       " -0.22602633794148502,\n",
       " -0.31148252565747303,\n",
       " 0.4852712733256281,\n",
       " -0.09240568486585454,\n",
       " -0.40836260645383304,\n",
       " 0.43228329854567105,\n",
       " 0.04857595208994312,\n",
       " -0.4727127561346619,\n",
       " 0.34485988403189743,\n",
       " 0.18568805655088483,\n",
       " -0.49940687866837274,\n",
       " 0.2299651288645669,\n",
       " 0.3080083568820817,\n",
       " -0.48631853555769006,\n",
       " 0.09675148337106163,\n",
       " 0.40579288808546854,\n",
       " -0.43449033671125425,\n",
       " -0.044169329820086166,\n",
       " 0.47125219046532674,\n",
       " -0.3480508867360281,\n",
       " -0.18157163952007502,\n",
       " 0.49917181352194273,\n",
       " -0.23388590266123804,\n",
       " -0.3045100565110485,\n",
       " 0.48732769608896687,\n",
       " -0.10108970166741303,\n",
       " -0.40319137697619023,\n",
       " 0.43666333377086886,\n",
       " 0.039759247006438174,\n",
       " -0.4697547035013202,\n",
       " 0.3512146206239923,\n",
       " 0.17744099685776193,\n",
       " -0.4988976396562504,\n",
       " 0.23778835214980765,\n",
       " 0.30098789862644976,\n",
       " -0.4882986758545457,\n",
       " 0.10541999986760567,\n",
       " 0.40055827694713725,\n",
       " -0.43880211947625625,\n",
       " -0.035346049166686676,\n",
       " 0.4682204125665691,\n",
       " -0.3543508378260646,\n",
       " -0.17329645218827663,\n",
       " 0.49858437855205345,\n",
       " -0.24167217158424323,\n",
       " -0.2974421591795314,\n",
       " 0.48923139878087035,\n",
       " -0.109742038704854,\n",
       " -0.39789379429435223,\n",
       " 0.4409065262595222,\n",
       " 0.030930082062572795,\n",
       " -0.4666494378684885,\n",
       " 0.3574592926283747,\n",
       " 0.1691383302251337,\n",
       " -0.4982320547524854,\n",
       " 0.24553705667812512,\n",
       " 0.293873115969089,\n",
       " -0.49012579179170096,\n",
       " 0.11405547955947042,\n",
       " 0.3951981377726192,\n",
       " -0.44297638924626487,\n",
       " -0.026511691672801787,\n",
       " 0.4650419024885642,\n",
       " -0.3605397414921595,\n",
       " -0.16496695674559086,\n",
       " 0.4978406958611334,\n",
       " -0.24938270462848655,\n",
       " -0.2902810486197032,\n",
       " 0.49098178481383997,\n",
       " -0.11835998448539538,\n",
       " -0.39247151857910767,\n",
       " 0.4450115462684927,\n",
       " 0.022091224165936597,\n",
       " -0.4633979323727093,\n",
       " 0.36359194307284265,\n",
       " 0.16078265856512505,\n",
       " -0.4974103325398748,\n",
       " 0.253208814139537,\n",
       " 0.28666623855983153,\n",
       " -0.49179931078262173,\n",
       " 0.12265521623667437,\n",
       " 0.3897141503368262,\n",
       " -0.44701183787732973,\n",
       " -0.017669025873276487,\n",
       " 0.46171765632139705,\n",
       " -0.36661565823894365,\n",
       " -0.15658576351182762,\n",
       " 0.49694099850647566,\n",
       " -0.2570150854462685,\n",
       " -0.2830289689997594,\n",
       " 0.49257830564716676,\n",
       " -0.12694083829388025,\n",
       " -0.3869262490778855,\n",
       " 0.44897710735550767,\n",
       " 0.013245443261722967,\n",
       " -0.4600012059795691,\n",
       " 0.36961065009081323,\n",
       " 0.15237660040071965,\n",
       " -0.4964327305319482,\n",
       " 0.26080122033794084,\n",
       " 0.2793695249094115,\n",
       " -0.49331870837540037,\n",
       " 0.13121651489047864,\n",
       " 0.3841080332265729,\n",
       " -0.4509072007296445,\n",
       " -0.008820822906635065,\n",
       " 0.4582487158263221,\n",
       " -0.37257668397919363,\n",
       " -0.14815549900799044,\n",
       " 0.4958855684376707,\n",
       " -0.26456692218144584,\n",
       " -0.27568819299602537,\n",
       " 0.4940204609588338,\n",
       " -0.13548191103913418,\n",
       " -0.3812597235822397,\n",
       " 0.4528019667823081,\n",
       " 0.004395511464676121,\n",
       " -0.45646032316437146,\n",
       " 0.37551352752360284,\n",
       " 0.14392279004516026,\n",
       " -0.4952995550922669,\n",
       " 0.26831189594454763,\n",
       " 0.27198526168168785,\n",
       " -0.49468350841710973,\n",
       " 0.139736692557956,\n",
       " 0.37838154330200174,\n",
       " -0.45466125706386323,\n",
       " 3.0144353345792636e-05,\n",
       " 0.454636168109294,\n",
       " -0.3784209506305408,\n",
       " -0.1396788051331702,\n",
       " 0.49467473640824783,\n",
       " -0.27203584821899757,\n",
       " -0.268261021080739,\n",
       " 0.49530779880230924,\n",
       " -0.14398052609667988,\n",
       " -0.37547371788325595,\n",
       " 0.45648492590410233,\n",
       " -0.004455797809641703,\n",
       " -0.4527763935785501,\n",
       " 0.38129872551151667,\n",
       " 0.1354238767764004,\n",
       " -0.4940111613384147,\n",
       " 0.2757384872435222,\n",
       " 0.2645157629770421,\n",
       " -0.49589328320302184,\n",
       " 0.14821307916278528,\n",
       " 0.37253647514601324,\n",
       " -0.4582728304236583,\n",
       " 0.00888110216660767,\n",
       " 0.45088114528028683,\n",
       " -0.38414662670089544,\n",
       " -0.13115833833661952,\n",
       " 0.49330888187202343,\n",
       " -0.2794195229266815,\n",
       " -0.260749780801123,\n",
       " 0.4964399157481778,\n",
       " -0.15243402014754517,\n",
       " -0.3695700452150492,\n",
       " 0.4600248305451994,\n",
       " -0.013305710713990712,\n",
       " -0.4489505717019221,\n",
       " 0.38696443107356254,\n",
       " 0.12688252400686656,\n",
       " -0.4925679530307112,\n",
       " 0.2830786668695972,\n",
       " 0.25696336960718075,\n",
       " -0.49694765361064197,\n",
       " 0.15664301835200678,\n",
       " 0.36657466050187476,\n",
       " -0.4617407890044026,\n",
       " 0.01772927679605259,\n",
       " 0.44698482409851076,\n",
       " -0.3897519178624048,\n",
       " -0.1225967687852678,\n",
       " 0.4917884328641861,\n",
       " -0.28671563238854775,\n",
       " -0.25315682604997103,\n",
       " 0.4974164570105691,\n",
       " -0.1608397440129009,\n",
       " -0.36355055568652733,\n",
       " 0.46342057136070897,\n",
       " -0.022151453838729317,\n",
       " -0.44498405648089445,\n",
       " 0.39250886867560764,\n",
       " 0.11830140844879074,\n",
       " -0.4909703824456789,\n",
       " 0.2903301345374292,\n",
       " 0.24933044836156415,\n",
       " -0.4978462892185203,\n",
       " 0.1650238683284777,\n",
       " 0.36049796769918396,\n",
       " -0.46506404600785645,\n",
       " 0.02657189537678425,\n",
       " 0.4429484256036356,\n",
       " -0.39523506751376464,\n",
       " -0.11399677952693678,\n",
       " 0.49011386586715827,\n",
       " -0.2939218901300799,\n",
       " -0.24548453632797917,\n",
       " 0.4982371165583411,\n",
       " -0.16919506348426785,\n",
       " -0.3574171357015991,\n",
       " 0.4666710841841902,\n",
       " -0.03099025508095272,\n",
       " -0.4408780909527353,\n",
       " 0.3979303007868009,\n",
       " 0.10968321927537515,\n",
       " -0.4892189502343088,\n",
       " 0.29749061776246777,\n",
       " 0.24161939126569656,\n",
       " -0.49858890840979947,\n",
       " 0.17335300267876538,\n",
       " 0.35430830106836647,\n",
       " -0.46824155998275185,\n",
       " 0.03540618678507593,\n",
       " 0.4387732147331387,\n",
       " -0.4005943573307072,\n",
       " -0.1053610656495199,\n",
       " 0.48828570566127427,\n",
       " -0.3010360378347368,\n",
       " -0.23773531599805103,\n",
       " 0.4989016372109853,\n",
       " -0.17749736014903217,\n",
       " -0.3511717073680081,\n",
       " 0.469775350361143,\n",
       " -0.039819344513222076,\n",
       " -0.4366339618560266,\n",
       " 0.40322702842408426,\n",
       " 0.10103065727805192,\n",
       " -0.48731420526516395,\n",
       " 0.3045578725731136,\n",
       " 0.23383261483150608,\n",
       " -0.499175278460469,\n",
       " 0.18162781119622004,\n",
       " 0.34800760034389167,\n",
       " -0.4712723351511655,\n",
       " 0.04422938250679268,\n",
       " 0.434460499925895,\n",
       " -0.4058281078044951,\n",
       " -0.0966923334363884,\n",
       " 0.4863045251603241,\n",
       " -0.30805584605166975,\n",
       " -0.2299115935318123,\n",
       " 0.499409810719222,\n",
       " -0.1857440322110105,\n",
       " -0.34481622789497696,\n",
       " 0.4727323970682369,\n",
       " -0.048635955251611775,\n",
       " -0.43225299922742366,\n",
       " 0.4083973916846252,\n",
       " 0.09234643402010158,\n",
       " -0.48525674445237466,\n",
       " 0.31152968421393995,\n",
       " 0.2259725593000519,\n",
       " -0.4996052156122962,\n",
       " 0.18984570069896825,\n",
       " 0.3415978400563937,\n",
       " -0.4741554217205782,\n",
       " 0.05303871750499592,\n",
       " 0.430011632712135,\n",
       " -0.41093467876824924,\n",
       " -0.08799329951828883,\n",
       " 0.48417094523201143,\n",
       " -0.31497911489439373,\n",
       " -0.2220158207485697,\n",
       " 0.4997614778302631,\n",
       " -0.19393249530580794,\n",
       " -0.3383526889798521,\n",
       " 0.47554129761817715,\n",
       " -0.05743732432280307,\n",
       " -0.4277365759848437,\n",
       " 0.4134397702660013,\n",
       " 0.08363327098689624,\n",
       " -0.4830472125685749,\n",
       " 0.3184038678397587,\n",
       " 0.21804168787679487,\n",
       " -0.4998785851304139,\n",
       " 0.1980040958425714,\n",
       " 0.3350810289138873,\n",
       " -0.4768899161815228,\n",
       " 0.06183143108645797,\n",
       " 0.42542800728989866,\n",
       " -0.41591246991094993,\n",
       " -0.07926669002199797,\n",
       " 0.4818856345033846,\n",
       " -0.321803674730194,\n",
       " -0.21405047204695302,\n",
       " 0.49995652833771814,\n",
       " -0.2020601833107133,\n",
       " -0.3317831161839401,\n",
       " 0.47820117175011256,\n",
       " -0.0662206935299521,\n",
       " -0.4230861074972178,\n",
       " 0.4183525839739749,\n",
       " 0.07489389873303302,\n",
       " -0.4806863020428424,\n",
       " 0.32517826920031306,\n",
       " 0.21004248595967168,\n",
       " -0.499995301345543,\n",
       " 0.206100439927094,\n",
       " 0.32845920917227384,\n",
       " -0.47947496159072983,\n",
       " 0.07060476776681579,\n",
       " 0.42071106008811776,\n",
       " -0.42075992127894574,\n",
       " -0.07051523971600196,\n",
       " 0.47944930915130096,\n",
       " -0.32852738686005156,\n",
       " -0.20601804362948156,\n",
       " 0.4999949011161314,\n",
       " -0.21012454914887718,\n",
       " -0.32510956829773185,\n",
       " 0.4807111859054936,\n",
       " -0.07498331031706103,\n",
       " -0.4183030511409383,\n",
       " 0.4231342932176991,\n",
       " 0.06613105602662549,\n",
       " -0.4781747527437031,\n",
       " 0.3318507653153826,\n",
       " 0.20197746036021383,\n",
       " -0.4999553276808403,\n",
       " 0.21413219569832945,\n",
       " 0.32173445599533346,\n",
       " -0.48190974783967705,\n",
       " 0.07935597813409194,\n",
       " 0.4158622693164639,\n",
       " -0.4254755137648164,\n",
       " -0.06174169115346698,\n",
       " 0.47686273267798834,\n",
       " -0.33514814418887395,\n",
       " -0.19792105272029747,\n",
       " 0.4998765841401379,\n",
       " -0.21812306558752223,\n",
       " -0.3183341366957135,\n",
       " 0.48307055348929573,\n",
       " -0.08372242863158164,\n",
       " -0.41338890584314253,\n",
       " 0.4277833994921982,\n",
       " 0.05734748899102111,\n",
       " -0.47551335174726916,\n",
       " 0.3384192651400882,\n",
       " 0.19384913851795652,\n",
       " -0.499758676663361,\n",
       " 0.22209684614293126,\n",
       " 0.31490887680440455,\n",
       " -0.48419351190846477,\n",
       " 0.08808231971031286,\n",
       " 0.41088315450210333,\n",
       " -0.43005776958343495,\n",
       " -0.05294879381277067,\n",
       " 0.4741267156717778,\n",
       " -0.34166387188582287,\n",
       " -0.18976203677631115,\n",
       " 0.49960161448823165,\n",
       " -0.226053226029934,\n",
       " -0.3114589446809653,\n",
       " 0.4852785351165242,\n",
       " -0.09243530978498053,\n",
       " -0.4083452116119747,\n",
       " 0.4322984458479739,\n",
       " 0.0485459502442137,\n",
       " -0.4727029330905829,\n",
       " 0.34488171022018954,\n",
       " 0.1856600677083827,\n",
       " -0.49940540992013294,\n",
       " 0.2299918952772017,\n",
       " 0.3079846106179546,\n",
       " -0.4863255381049322,\n",
       " 0.09678105781095397,\n",
       " 0.40577527601350305,\n",
       " -0.4345052527350797,\n",
       " -0.04413930323586307,\n",
       " 0.47124211555307854,\n",
       " -0.3480725280345301,\n",
       " -0.18154355269200614,\n",
       " 0.49917007833114574,\n",
       " -0.233912545300985,\n",
       " -0.3044861468197556,\n",
       " 0.48733443884392497,\n",
       " -0.10111922331099683,\n",
       " -0.40317354905397423,\n",
       " 0.4366780173475879,\n",
       " 0.039729198036220534,\n",
       " -0.46974437751024417,\n",
       " 0.3512360753371689,\n",
       " 0.17741281424465088,\n",
       " -0.49889563815884347,\n",
       " 0.2378148689292901,\n",
       " 0.3009638273812486,\n",
       " -0.48830515828894383,\n",
       " 0.10544946640194255,\n",
       " 0.40054023457143867,\n",
       " -0.4388165694554517,\n",
       " -0.03531598016472749,\n",
       " 0.4682098363056777,\n",
       " -0.35437210427299876,\n",
       " -0.1732681759981526,\n",
       " 0.4985821109048482,\n",
       " -0.24169856042594554,\n",
       " -0.29741792826633706,\n",
       " 0.4892376203868277,\n",
       " -0.10977144782132313,\n",
       " -0.39787553887874105,\n",
       " 0.4409207415090784,\n",
       " 0.03089999538469449,\n",
       " -0.46663861216640223,\n",
       " 0.3574803691428999,\n",
       " 0.16910996267335732,\n",
       " -0.49822952113314584,\n",
       " 0.24556331551455518,\n",
       " 0.2938487272863259,\n",
       " -0.4901317520817721,\n",
       " 0.1140848289539496,\n",
       " 0.3951796707473562,\n",
       " -0.4429903686524568,\n",
       " -0.026481589676211663,\n",
       " 0.4650308281934467,\n",
       " -0.36056062642298936,\n",
       " -0.16493850005468064,\n",
       " 0.4978378964681614,\n",
       " -0.24940883140233766,\n",
       " -0.29025650407815656,\n",
       " 0.49098748332105285,\n",
       " -0.11838927185844138,\n",
       " -0.3924528413910328,\n",
       " 0.4450252887360729,\n",
       " 0.022061109209042116,\n",
       " -0.4633866103522007,\n",
       " 0.3636126347837011,\n",
       " 0.1607541149645834,\n",
       " -0.4974072675925952,\n",
       " 0.25323480680384947,\n",
       " 0.28664154008249776,\n",
       " -0.49180474706051414,\n",
       " 0.12268443929370323,\n",
       " 0.38969526444924507,\n",
       " -0.44702534232961405,\n",
       " -0.01763890031550053,\n",
       " 0.4617060874625459,\n",
       " -0.36663615510869296,\n",
       " -0.15655713523796597,\n",
       " 0.4969376682450183,\n",
       " -0.25704094196458943,\n",
       " -0.2830041185216953,\n",
       " 0.4925834792698215,\n",
       " -0.12696999474534695,\n",
       " -0.38690715597045466,\n",
       " 0.44899037273446,\n",
       " 0.013215309463318952,\n",
       " -0.4599893911887633,\n",
       " 0.36963095051358075,\n",
       " 0.15234788969648347,\n",
       " -0.4964291352172299,\n",
       " 0.2608269386844842,\n",
       " 0.2793445243775827,\n",
       " -0.4933236189374785,\n",
       " 0.13124560245205652,\n",
       " 0.38408873439518415,\n",
       " -0.4509202259959595,\n",
       " -0.00879068322850205,\n",
       " 0.4582366560292177,\n",
       " -0.372596786364498,\n",
       " -0.14812670812278325,\n",
       " 0.49588170835137424,\n",
       " -0.26459250034125087,\n",
       " -0.2756630443691538,\n",
       " 0.4940251080756067,\n",
       " -0.1355109274318939,\n",
       " -0.3812402205389026,\n",
       " 0.45281475091549234,\n",
       " 0.004365368268173816,\n",
       " -0.45644801930581996,\n",
       " 0.37553343029647807,\n",
       " 0.14389392123466765,\n",
       " -0.4952954305368194,\n",
       " 0.2683373319136369,\n",
       " 0.2719599669300982,\n",
       " -0.49468789172448857,\n",
       " 0.1397656355085442,\n",
       " 0.3783618375747253,\n",
       " -0.45467379906231553,\n",
       " 6.0288706582018734e-05,\n",
       " 0.45462362115326826,\n",
       " -0.37844065223166024,\n",
       " -0.13964986065918294,\n",
       " 0.49467034770679663,\n",
       " -0.27206114000453385,\n",
       " -0.2682355821862047,\n",
       " 0.495311917956874,\n",
       " -0.14400939333749707,\n",
       " -0.37545381101592906,\n",
       " 0.45649722478519206,\n",
       " -0.004485940957885854,\n",
       " -0.45276360450806913,\n",
       " 0.38131822439731483,\n",
       " 0.13539485890663733,\n",
       " -0.4940065088348024,\n",
       " 0.2757636328639646,\n",
       " 0.26449018193262946,\n",
       " -0.4958971378820485,\n",
       " 0.14824186843216364,\n",
       " 0.3725163686982833,\n",
       " -0.4582848852238027,\n",
       " 0.008911241748228159,\n",
       " 0.4508681150973387,\n",
       " -0.38416592134368893,\n",
       " -0.13112924934454973,\n",
       " 0.4933039659307606,\n",
       " -0.2794445204119409,\n",
       " -0.26072405961103545,\n",
       " 0.49644350564966294,\n",
       " -0.15246272918992576,\n",
       " -0.3695497407622003,\n",
       " 0.4600366403199382,\n",
       " -0.013335844367635385,\n",
       " -0.44893730142738525,\n",
       " 0.38698351996166996,\n",
       " 0.12685336617153148,\n",
       " -0.4925627740369482,\n",
       " 0.28310351426119035,\n",
       " 0.25693751028660183,\n",
       " -0.49695097845332675,\n",
       " 0.15667164491811622,\n",
       " 0.3665541596347042,\n",
       " -0.4617523528284731,\n",
       " 0.01775940216083374,\n",
       " 0.4469713147720741,\n",
       " -0.38977079950026505,\n",
       " -0.12256754439110251,\n",
       " 0.4917829912236826,\n",
       " -0.28674032773975067,\n",
       " -0.25313083062490643,\n",
       " 0.4974195165339613,\n",
       " -0.16086828585992757,\n",
       " -0.36352986001122084,\n",
       " 0.4634318883281177,\n",
       " -0.022181568554408632,\n",
       " -0.44497030916097624,\n",
       " 0.392527541583897,\n",
       " 0.118272119785445,\n",
       " -0.49096467858477233,\n",
       " 0.29035467591343006,\n",
       " 0.24930431886868287,\n",
       " -0.49784908318291493,\n",
       " 0.16505232322024752,\n",
       " 0.36047707883719005,\n",
       " -0.4650751152319505,\n",
       " 0.026601997083957763,\n",
       " 0.4429344413672998,\n",
       " -0.3952535302295128,\n",
       " -0.11396742888909565,\n",
       " 0.49010790023273,\n",
       " -0.29394627560813047,\n",
       " -0.24545827481445415,\n",
       " 0.49823964474483884,\n",
       " -0.16922342919141936,\n",
       " -0.3573960552895018,\n",
       " 0.46668190479772687,\n",
       " -0.031020341421235633,\n",
       " -0.44086387089560797,\n",
       " 0.3979485518635057,\n",
       " 0.10965380896257929,\n",
       " -0.48921272329374976,\n",
       " 0.2975148454320337,\n",
       " 0.24159299978904408,\n",
       " -0.49859117062032393,\n",
       " 0.1733812769789246,\n",
       " 0.35428703075775725,\n",
       " -0.4682521311379663,\n",
       " 0.03543625540128739,\n",
       " 0.43875875996932157,\n",
       " -0.40061239533844767,\n",
       " -0.10533159796598522,\n",
       " 0.48827921790244805,\n",
       " -0.30106010579764786,\n",
       " -0.2377087966259697,\n",
       " 0.49890363326829856,\n",
       " -0.17752554082698652,\n",
       " -0.35115024882535656,\n",
       " 0.46978567122981457,\n",
       " -0.039849393049569894,\n",
       " -0.4366192735180101,\n",
       " 0.4032448519496327,\n",
       " 0.10100113453248925,\n",
       " -0.48730745719636825,\n",
       " 0.304581778943712,\n",
       " 0.23380596964171466,\n",
       " -0.4991770082081855,\n",
       " 0.18165589604409202,\n",
       " 0.34798595525041465,\n",
       " -0.47128240492468304,\n",
       " 0.044259408609057846,\n",
       " 0.4344455791644695,\n",
       " -0.40584571545142806,\n",
       " -0.09666275794182252,\n",
       " 0.4862975173102513,\n",
       " -0.30807958895695803,\n",
       " -0.22988482461188722,\n",
       " 0.49941127402182106,\n",
       " -0.1857720190284306,\n",
       " -0.3447943979465072,\n",
       " 0.4727422149576616,\n",
       " -0.048665956567332906,\n",
       " -0.43223784721158914,\n",
       " 0.40841478207343274,\n",
       " 0.09231680809369,\n",
       " -0.4852494773700702,\n",
       " 0.31155326179372766,\n",
       " 0.22594566874726318,\n",
       " -0.4996064123551319,\n",
       " 0.1898735872932474,\n",
       " 0.34157582696324673,\n",
       " -0.47416498695670584,\n",
       " 0.05306869168365362,\n",
       " 0.42999625062900965,\n",
       " -0.41095185053644273,\n",
       " -0.08796362548114023,\n",
       " 0.484163419486831,\n",
       " -0.31500252530144335,\n",
       " -0.22198881066971732,\n",
       " 0.4997624079195741,\n",
       " -0.19396027949210928,\n",
       " -0.3383304944666924,\n",
       " 0.47555060945159827,\n",
       " -0.057467269016004054,\n",
       " -0.4277209650395709,\n",
       " 0.4134567220682207,\n",
       " 0.08360355116388869,\n",
       " -0.4830394287501396,\n",
       " 0.31842710923993,\n",
       " 0.21801456038804312,\n",
       " -0.49987924849333015,\n",
       " 0.1980317754440814,\n",
       " 0.3350586547195931,\n",
       " -0.4768989738826813,\n",
       " 0.061861343948119055,\n",
       " 0.4254121687055523,\n",
       " -0.4159292004190687,\n",
       " -0.07923692674159669,\n",
       " 0.48187759322153506,\n",
       " -0.3218267453025883,\n",
       " -0.21402322927366493,\n",
       " 0.4999569249222672,\n",
       " -0.20208775615881236,\n",
       " -0.33176056406146703,\n",
       " 0.47820997460936254,\n",
       " -0.06625057221648396,\n",
       " -0.4230700425147069,\n",
       " 0.4183690918772046,\n",
       " 0.074864094327108,\n",
       " -0.4806780039275903,\n",
       " 0.3252011671374152,\n",
       " 0.21001513003624261,\n",
       " -0.4999954311206534,\n",
       " 0.2061279038615265,\n",
       " 0.32843648088851796,\n",
       " -0.479483508918392,\n",
       " 0.07063460993730675,\n",
       " 0.4206947699660889,\n",
       " -0.420776205283938,\n",
       " -0.07048539651964526,\n",
       " 0.47944075485278076,\n",
       " -0.32855011036787213,\n",
       " -0.20599057669917178,\n",
       " 0.4999947640716358,\n",
       " -0.2101519020179203,\n",
       " -0.32508666563339067,\n",
       " 0.48071947703190865,\n",
       " -0.07501311363346023,\n",
       " -0.418286537155677,\n",
       " 0.42315035204864765,\n",
       " 0.06610117637796833,\n",
       " -0.4781659429321201,\n",
       " 0.3318733126135981,\n",
       " 0.20194988457498075,\n",
       " -0.49995492382747564,\n",
       " 0.2141594353589623,\n",
       " 0.32171138074476685,\n",
       " -0.4819177821152583,\n",
       " 0.07938574026139268,\n",
       " 0.415845532761795,\n",
       " -0.4254913461635567,\n",
       " -0.06171177739349649,\n",
       " 0.4768536680435667,\n",
       " -0.33517051351096644,\n",
       " -0.1978933702406269,\n",
       " 0.499875913509545,\n",
       " -0.21815018990559334,\n",
       " -0.31831089066680296,\n",
       " 0.48307833028458,\n",
       " -0.08375214723800425,\n",
       " -0.4133719480303282,\n",
       " 0.4277990042183059,\n",
       " 0.05731754346339694,\n",
       " -0.4755040330001978,\n",
       " 0.3384414547334837,\n",
       " 0.19382135151269356,\n",
       " -0.499757739308082,\n",
       " 0.222123852993326,\n",
       " 0.3148854618184117,\n",
       " -0.48420103061416203,\n",
       " 0.08811199246748744,\n",
       " 0.41086597675974096,\n",
       " -0.4300731454143233,\n",
       " -0.05291881886364138,\n",
       " 0.4741171435421545,\n",
       " -0.34168588001202865,\n",
       " -0.18973414742249012,\n",
       " 0.4996004104817054,\n",
       " -0.22608011329674094,\n",
       " -0.31143536257238896,\n",
       " 0.4852857951435648,\n",
       " -0.0924649343681293,\n",
       " -0.40832781528589257,\n",
       " 0.43231359157898946,\n",
       " 0.04851594822203296,\n",
       " -0.47269310832835737,\n",
       " 0.3449035351549303,\n",
       " 0.18563207819105668,\n",
       " -0.4994039393566903,\n",
       " 0.23001866085387854,\n",
       " 0.3079608632343872,\n",
       " -0.4863325388845133,\n",
       " 0.09681063189907349,\n",
       " 0.40575766246665473,\n",
       " -0.4345201671795966,\n",
       " -0.04410927649120562,\n",
       " 0.4712320389279935,\n",
       " -0.348094168067883,\n",
       " -0.1815154652040758,\n",
       " 0.49916834132600113,\n",
       " -0.23393918709052336,\n",
       " -0.3044622360217384,\n",
       " 0.48734117982755504,\n",
       " -0.10114874458703978,\n",
       " -0.40315571966633207,\n",
       " 0.43669269933710103,\n",
       " 0.03969914892159806,\n",
       " -0.4697340498117749,\n",
       " 0.3512575287736978,\n",
       " 0.17738463098669255,\n",
       " -0.49889363484808646,\n",
       " 0.23784138484438017,\n",
       " 0.3009397550421259,\n",
       " -0.4883116389484854,\n",
       " 0.10547893255299928,\n",
       " 0.4005221907398854,\n",
       " -0.4388310178396682,\n",
       " -0.035285911034404316,\n",
       " 0.46819925834297066,\n",
       " -0.35439336943188676,\n",
       " -0.1732398991782459,\n",
       " 0.49857984144543255,\n",
       " -0.24172494838913933,\n",
       " -0.2973936962721094,\n",
       " 0.48924384021453937,\n",
       " -0.10980085653880291,\n",
       " -0.39785728201696047,\n",
       " 0.44093495515600767,\n",
       " 0.030869908594503104,\n",
       " -0.46662778476821143,\n",
       " 0.35750144435808096,\n",
       " 0.1690815945069122,\n",
       " -0.49822698570287743,\n",
       " 0.2455895734584293,\n",
       " 0.2938243375355026,\n",
       " -0.49013771059034766,\n",
       " 0.11411417793376143,\n",
       " 0.3951612022857226,\n",
       " -0.4430043464484991,\n",
       " -0.026451487583368155]"
      ]
     },
     "execution_count": 32,
     "metadata": {},
     "output_type": "execute_result"
    }
   ],
   "source": [
    "from time import sleep\n",
    "\n",
    "def some_function_that_was_lengthly_to_execute():\n",
    "    sleep(10) # some very CPU intensive code here :)\n",
    "    return [sin(x)*cos(x) for x in range(1000)]\n",
    "\n",
    "some_function_that_was_lengthly_to_execute()"
   ]
  },
  {
   "cell_type": "markdown",
   "id": "99b8057c",
   "metadata": {},
   "source": [
    "Oops, how will I get that table I generated without re-executing the cell?? Here you are:"
   ]
  },
  {
   "cell_type": "code",
   "execution_count": 33,
   "id": "e9223c21",
   "metadata": {},
   "outputs": [
    {
     "data": {
      "text/plain": [
       "[0.0,\n",
       " 0.4546487134128409,\n",
       " -0.37840124765396416,\n",
       " -0.13970774909946293,\n",
       " 0.4946791233116909,\n",
       " -0.2720105554446849,\n",
       " -0.26828645900021747,\n",
       " 0.4953036778474351,\n",
       " -0.14395165833253265,\n",
       " -0.375493623385838]"
      ]
     },
     "execution_count": 33,
     "metadata": {},
     "output_type": "execute_result"
    }
   ],
   "source": [
    "table = _\n",
    "\n",
    "table[:10]"
   ]
  },
  {
   "cell_type": "markdown",
   "id": "e3f474e5",
   "metadata": {},
   "source": [
    "*NB: In Ipython, you can as well access the second to last on with __ and third to last with ___.*"
   ]
  },
  {
   "cell_type": "markdown",
   "id": "3e3cb850",
   "metadata": {},
   "source": [
    "### The proper way to  uncompile a 2D list\n",
    "\n",
    "There might be many ways to flatten multi-dimmensional data, but the one that is considered the most pythonic is:  \n",
    "```[element for row in matrix for element in row]```\n",
    "\n",
    "And that's it, the debate is close. Full stop :)"
   ]
  },
  {
   "cell_type": "markdown",
   "id": "8b341d3e",
   "metadata": {},
   "source": [
    "### Name your variables!"
   ]
  },
  {
   "cell_type": "markdown",
   "id": "6e20b553",
   "metadata": {},
   "source": [
    "Imagine you have some labelled data called *summary* and for the sake of the example generate one such data with the following cell:"
   ]
  },
  {
   "cell_type": "code",
   "execution_count": 19,
   "id": "5946dd52",
   "metadata": {},
   "outputs": [],
   "source": [
    "from random import random\n",
    "summary_generator = lambda : ((\"field 0\", random(), \"field 2\") for s in range(10))\n",
    "summary = list(summary_generator())"
   ]
  },
  {
   "cell_type": "markdown",
   "id": "aefcbdc4",
   "metadata": {},
   "source": [
    "Consider the following code that extract field number \"1\" from an iterable that was called \"summary\":"
   ]
  },
  {
   "cell_type": "code",
   "execution_count": 20,
   "id": "8e90524f",
   "metadata": {},
   "outputs": [
    {
     "data": {
      "text/plain": [
       "{0.20195078080590367,\n",
       " 0.22916947869377569,\n",
       " 0.27788193620628054,\n",
       " 0.4133138875425806,\n",
       " 0.6795516290061746,\n",
       " 0.7648940981763035,\n",
       " 0.777492204056638,\n",
       " 0.7931504651507256,\n",
       " 0.9631931034020347,\n",
       " 0.9870564777752268}"
      ]
     },
     "execution_count": 20,
     "metadata": {},
     "output_type": "execute_result"
    }
   ],
   "source": [
    "ids = set(trace[1] for trace in summary)\n",
    "ids"
   ]
  },
  {
   "cell_type": "markdown",
   "id": "9a2f6ff8",
   "metadata": {},
   "source": [
    "A better way would be to write the same code but in a much more readable manner:"
   ]
  },
  {
   "cell_type": "code",
   "execution_count": 22,
   "id": "c10b8053",
   "metadata": {},
   "outputs": [
    {
     "data": {
      "text/plain": [
       "{0.20195078080590367,\n",
       " 0.22916947869377569,\n",
       " 0.27788193620628054,\n",
       " 0.4133138875425806,\n",
       " 0.6795516290061746,\n",
       " 0.7648940981763035,\n",
       " 0.777492204056638,\n",
       " 0.7931504651507256,\n",
       " 0.9631931034020347,\n",
       " 0.9870564777752268}"
      ]
     },
     "execution_count": 22,
     "metadata": {},
     "output_type": "execute_result"
    }
   ],
   "source": [
    "ids = set(trace_id for trace_title, trace_id, *_ in summary)\n",
    "ids"
   ]
  },
  {
   "cell_type": "markdown",
   "id": "ae449952",
   "metadata": {},
   "source": [
    "### A useful design pattern for subclasses\n",
    "\n",
    "Often we have to create dedicated classes using inheritance. Let's consider first a minimalist parent class example:"
   ]
  },
  {
   "cell_type": "code",
   "execution_count": 80,
   "id": "c016d0e3",
   "metadata": {},
   "outputs": [
    {
     "name": "stdout",
     "output_type": "stream",
     "text": [
      "This is the constructor of the parent class\n"
     ]
    },
    {
     "data": {
      "text/plain": [
       "<__main__.ParentClass at 0x7fca38a37640>"
      ]
     },
     "execution_count": 80,
     "metadata": {},
     "output_type": "execute_result"
    }
   ],
   "source": [
    "class ParentClass():\n",
    "    def __init__(self):\n",
    "        print(\"This is the constructor of the parent class\")\n",
    "\n",
    "def function_that_expects_a_parent(class_to_use):\n",
    "    o = class_to_use()\n",
    "    return o\n",
    "    \n",
    "function_that_expects_a_parent(ParentClass)"
   ]
  },
  {
   "cell_type": "markdown",
   "id": "eec19ddd",
   "metadata": {},
   "source": [
    "Imagine a sub-class that has simply an additional \"instance_variable\" set to a particular value.\n",
    "\n",
    "One natural way to generate such a sub-class would be to write the following code:\n",
    "    "
   ]
  },
  {
   "cell_type": "code",
   "execution_count": 75,
   "id": "b754b378",
   "metadata": {},
   "outputs": [
    {
     "name": "stdout",
     "output_type": "stream",
     "text": [
      "This is the constructor of the parent class\n",
      "<__main__.DedicatedChild object at 0x7fca38a4d640>\n"
     ]
    }
   ],
   "source": [
    "class DedicatedChild(ParentClass):\n",
    "    def __init__(self, value, *kargs, **kwargs):\n",
    "        super().__init__(*kargs, **kwargs)\n",
    "        self.instance_variable = value\n",
    "        \n",
    "print(DedicatedChild(10))"
   ]
  },
  {
   "cell_type": "markdown",
   "id": "845d4fe0",
   "metadata": {},
   "source": [
    "The problem with the above design is that now we have changed the constructor of the parent class which may result in not being able to re-use some previous code that instanciated the parent class in a particular manner. In particular, now one cannot simply call the 'function_that_expects_a_parent' with the 'DedicatedChild', ie:"
   ]
  },
  {
   "cell_type": "code",
   "execution_count": 77,
   "id": "44c95369",
   "metadata": {},
   "outputs": [
    {
     "ename": "TypeError",
     "evalue": "__init__() missing 1 required positional argument: 'value'",
     "output_type": "error",
     "traceback": [
      "\u001b[0;31m---------------------------------------------------------------------------\u001b[0m",
      "\u001b[0;31mTypeError\u001b[0m                                 Traceback (most recent call last)",
      "\u001b[0;32m/tmp/ipykernel_16241/652528912.py\u001b[0m in \u001b[0;36m<module>\u001b[0;34m\u001b[0m\n\u001b[0;32m----> 1\u001b[0;31m \u001b[0mfunction_that_expects_a_parent\u001b[0m\u001b[0;34m(\u001b[0m\u001b[0mDedicatedChild\u001b[0m\u001b[0;34m)\u001b[0m\u001b[0;34m\u001b[0m\u001b[0;34m\u001b[0m\u001b[0m\n\u001b[0m",
      "\u001b[0;32m/tmp/ipykernel_16241/3479110272.py\u001b[0m in \u001b[0;36mfunction_that_expects_a_parent\u001b[0;34m(class_to_use)\u001b[0m\n\u001b[1;32m      4\u001b[0m \u001b[0;34m\u001b[0m\u001b[0m\n\u001b[1;32m      5\u001b[0m \u001b[0;32mdef\u001b[0m \u001b[0mfunction_that_expects_a_parent\u001b[0m\u001b[0;34m(\u001b[0m\u001b[0mclass_to_use\u001b[0m\u001b[0;34m)\u001b[0m\u001b[0;34m:\u001b[0m\u001b[0;34m\u001b[0m\u001b[0;34m\u001b[0m\u001b[0m\n\u001b[0;32m----> 6\u001b[0;31m     \u001b[0mo\u001b[0m \u001b[0;34m=\u001b[0m \u001b[0mclass_to_use\u001b[0m\u001b[0;34m(\u001b[0m\u001b[0;34m)\u001b[0m\u001b[0;34m\u001b[0m\u001b[0;34m\u001b[0m\u001b[0m\n\u001b[0m\u001b[1;32m      7\u001b[0m     \u001b[0mprint\u001b[0m\u001b[0;34m(\u001b[0m\u001b[0mo\u001b[0m\u001b[0;34m)\u001b[0m\u001b[0;34m\u001b[0m\u001b[0;34m\u001b[0m\u001b[0m\n\u001b[1;32m      8\u001b[0m \u001b[0;34m\u001b[0m\u001b[0m\n",
      "\u001b[0;31mTypeError\u001b[0m: __init__() missing 1 required positional argument: 'value'"
     ]
    }
   ],
   "source": [
    "function_that_expects_a_parent(DedicatedChild)"
   ]
  },
  {
   "cell_type": "markdown",
   "id": "738f1514",
   "metadata": {},
   "source": [
    "Now consider the below code instead:"
   ]
  },
  {
   "cell_type": "code",
   "execution_count": 81,
   "id": "eeaaf4c5",
   "metadata": {},
   "outputs": [
    {
     "name": "stdout",
     "output_type": "stream",
     "text": [
      "This is the constructor of the parent class\n"
     ]
    },
    {
     "data": {
      "text/plain": [
       "10"
      ]
     },
     "execution_count": 81,
     "metadata": {},
     "output_type": "execute_result"
    }
   ],
   "source": [
    "class ParentClass():\n",
    "    # ... here usual constructor, methods etc\n",
    "    def __init__(self):\n",
    "        print(\"This is the constructor of the parent class\")\n",
    "\n",
    "    @classmethod\n",
    "    def make(cls, value):\n",
    "        class DedicatedChild(cls):\n",
    "            def __init__(self, *kargs, **kwargs):\n",
    "                super().__init__(*kargs, **kwargs)\n",
    "                self.instance_variable = value\n",
    "        return DedicatedChild \n",
    "    \n",
    "# Now we can use a purpose-built class\n",
    "o = function_that_expects_a_parent(ParentClass.make(10))\n",
    "o.instance_variable"
   ]
  },
  {
   "cell_type": "markdown",
   "id": "c3e42ea1",
   "metadata": {},
   "source": [
    "Here, we delegate the construction to a class method which will return a new class built on purpose. Then we can use this \"DedicatedChild\" in exactly the same way the \"ParentClass\" was used, just with the extra \"instance_variable\" set to the right value.\n",
    "\n",
    "In summary, using such design patterns as the one above will not change in any way the \"efficiency\" of your scripts / Python code but will definitively make your scripts much shorter and easier to manage. Think about it!"
   ]
  }
 ],
 "metadata": {
  "kernelspec": {
   "display_name": "Python 3 (ipykernel)",
   "language": "python",
   "name": "python3"
  },
  "language_info": {
   "codemirror_mode": {
    "name": "ipython",
    "version": 3
   },
   "file_extension": ".py",
   "mimetype": "text/x-python",
   "name": "python",
   "nbconvert_exporter": "python",
   "pygments_lexer": "ipython3",
   "version": "3.8.10"
  }
 },
 "nbformat": 4,
 "nbformat_minor": 5
}
