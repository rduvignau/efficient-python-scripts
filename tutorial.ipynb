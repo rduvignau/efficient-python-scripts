{
 "cells": [
  {
   "cell_type": "markdown",
   "id": "4c50def4",
   "metadata": {
    "tags": []
   },
   "source": [
    "<h1>Efficient Python Scripts Tutorial</h1>\n",
    "\n",
    "Romaric Duvignau, duvignau@chalmers.se, license MIT.\n",
    "\n",
    "<h2>Introduction</h2>\n",
    "\n",
    "This tutorial, developed as part of the <a href=\"http://www.cse.chalmers.se/edu/year/2017/course/DAT300/\">DAT300 / DIT615 Data-driven support for cyber-physical systems</a>, aims to give some simple and useful tips on how to improve the performance of your Python scripts. Python is now ubiquitous in many domains such as machine learning, embedded devices, scientific computing and networking. To follow the tutorial, you are expected to be at least \"conversational\" in Python that is to understand its syntax and having already programmed at least once in it. Let's note that the tutorial focuses on Python but many of the below tips are regardless applicable to other scripting languages.\n",
    "\n",
    "<h3>About Python</h3>\n",
    "\n",
    "Python is a multi-paradigm language that offers ease to program, ease to read source-code even when not knowing the language and comes with an intuitive networking library.\n",
    "\n",
    "If you've never used it, it might be worth to follow a basic tutorial beforehand, for example check the <a href=\"https://www.python.org/about/gettingstarted/\">getting started page</a>.\n",
    "\n",
    "<h3>About the tutorial</h3>\n",
    "\n",
    "You need a <a href=\"https://jupyter.readthedocs.io/en/latest/install.html\">working jupyter notebook</a> to run the tutorial and if you are reading those lines it should be the case. The tutorial mostly builds on Python standard library with the exception of *matplotlib* for the plots and *numpy* used in **Part 2**. If you have a fresh Python install, you'll need to install those, the simplest is by running:  \n",
    "```pip install matplotlib numpy```\n",
    "\n",
    "The main purpose of the tutorial is to get a feeling of places where easy optimization is possible when writing your scripts. It was not meant as, but it can actually also be used as a quick reference guide for many Python syntax elements as the small pieces of code deal with various Python aspects. At last the tutorial itself can also be a simple starting tool for using jupyter and is written for a complete beginner in jupyter.\n",
    "\n",
    "The first exercises are more guided on purpose and the later ones are intended to be mainly explored on your own. The main purpose of the tutorial, beyond giving you some useful tips and tricks to make your scripts more powerful, is to also provide a guide of good habits when considering different implementation to choose from: **testing!**\n",
    "    \n",
    "**Disclaimer** We are still experiencing with such a tutorial and improving it over the years, so ideas to complement it and feedback are more than welcome!\n",
    "\n",
    "### Some Jupyter shortcuts (for complete beginners to get started)\n",
    "\n",
    "- *Single click* to **select** a cell (click on the left margin of the cell so to use of the keyboard shortcuts)\n",
    "- Once a cell is selected, press *a* = to add a new cell **Above**, and *b* = add a new cell **Below**\n",
    "- *Double click* to **edit** a cell\n",
    "- *Ctrl + Enter* to **run** (ie execute) a selected cell\n",
    "- *m* = turn the selected a cell into a **Markup** cell, *y* = to turn a selcted cell into a **Code** cell\n",
    "- As usual, use *TAB* to autocomplete your code\n",
    "- *Shift + TAB* to display a *function definition* (quick acces to the documentation)\n",
    "- toggle block comment: *Ctrl + /* (use numpad one on swedish keyboard)\n",
    "- *Esc + O* hides a cell output\n"
   ]
  },
  {
   "cell_type": "markdown",
   "id": "3d211fbd",
   "metadata": {},
   "source": [
    "#  Preliminaries: a few reminders of some elements of Python syntax\n",
    "\n"
   ]
  },
  {
   "cell_type": "markdown",
   "id": "351f368b",
   "metadata": {},
   "source": [
    "We'll start by a few reminders of some basic Python syntax, feel free to move straight to the next part if you're fluent in Python. \n",
    "\n",
    "Try to answer the following questions before checking the answer by executing the corresponding cell (click on the section then CTRL + ENTER to execute it)."
   ]
  },
  {
   "cell_type": "code",
   "execution_count": null,
   "id": "845c0215",
   "metadata": {},
   "outputs": [],
   "source": [
    "fruits = [\"banana\", \"apple\",  \"pear\", \"orange\"]\n",
    "colors = [\"red\", \"blue\", \"green\", \"orange\"]\n",
    "\n",
    "# Q1: What is the output of the following piece of code?\n",
    "\"orange\" in fruits and \"orange\" in colors"
   ]
  },
  {
   "cell_type": "markdown",
   "id": "03f5909a",
   "metadata": {},
   "source": [
    "<details>\n",
    "    <summary><font color='blue'>Click here for some quick explanations about the output of Q1.</font></summary>\n",
    "    1. Python is a verbose language so you write \"A and B\" to have a boolean operator \"and\" similar to \"A && B\" in C. <br>\n",
    "    2. Python's \"in\" is one of the core syntax elements and serves to test membership in a \"collection\" so \"a in C\" is True if \"a\" is an element of the collection C (that can be a list [1,2,3], a set([1,2,3]) or a dictionary (Python's hashmap) where membership applies to the keys). <br>\n",
    "    3. So <strong>\"orange\"</strong> is indeed an element of the list <strong>fruits</strong> and of the list <strong>colors</strong>.\n",
    "</details>"
   ]
  },
  {
   "cell_type": "code",
   "execution_count": null,
   "id": "a9f12b1d",
   "metadata": {},
   "outputs": [],
   "source": [
    "fake_fruits = fruits\n",
    "\n",
    "# Q2: What is the output of the following piece of code?\n",
    "fake_fruits is not fruits"
   ]
  },
  {
   "cell_type": "markdown",
   "id": "546f26e5",
   "metadata": {},
   "source": [
    "<details>\n",
    "    <summary><font color='blue'>Click here for some quick explanations about the output of Q2.</font></summary>\n",
    "    1. Python's <strong>\"is\"</strong> tests the equality of reference (i.e. 2 pointers to the same object). Since fruits is a list, <strong>fake_fruits</strong> is just another pointer to the exact same list.<br>\n",
    "    2. Python's <strong>\"not\"</strong> is the usual boolean negation. <br>\n",
    "    3. Python's has the good idea of allowing to write \"not\" right after \"is\" so to negate the test, hence the above code is actually equivalent to <strong>\"not ( fake_fruits is  fruits )\"</strong>.\n",
    "</details>"
   ]
  },
  {
   "cell_type": "code",
   "execution_count": null,
   "id": "1bd9ebaa",
   "metadata": {},
   "outputs": [],
   "source": [
    "# Q3: What is the output of the following piece of code?\n",
    "[c for c in colors if c is not in fruits]"
   ]
  },
  {
   "cell_type": "markdown",
   "id": "64d2f88c",
   "metadata": {},
   "source": [
    "<details>\n",
    "    <summary><font color='blue'>Click here for some quick explanations about the output of Q3.</font></summary>\n",
    "    1. Python has a very user-friendly way to iterate through lists called \"list comprehension\" and written as \"[f(element) for element in L]\" where \"f(element)\" can be any expressions depending (or not) on element, and L is a list.<br>\n",
    "    2. List comprehension can be conditional so \"f(element)\" will be executed only if the condition after \"if\" is True.<br>\n",
    "    3. Here the if condition contains a syntax error, the correct syntax is either \"c is not fruits\" which makes little sense as c is a string, or more likely <strong>\"c not in fruits\"</strong>. If corrected the output should be [\"red\", \"blue\", \"green\"].\n",
    "</details>"
   ]
  },
  {
   "cell_type": "code",
   "execution_count": null,
   "id": "4ad716f7",
   "metadata": {},
   "outputs": [],
   "source": [
    "def combine(fruits, colors):\n",
    "    for fruit in fruits:\n",
    "        for color in colors:\n",
    "            yield f\"{color} {fruit}\"\n",
    "\n",
    "# Q4: What is the output of the following piece of code?\n",
    "list(combine(fruits,colors))[-1]"
   ]
  },
  {
   "cell_type": "markdown",
   "id": "8187a9dd",
   "metadata": {},
   "source": [
    "<details>\n",
    "    <summary><font color='blue'>Click here for some quick explanations about the output of Q4.</font></summary>\n",
    "    1. Python defines functions using the \"def\" keyword and uses indentations (aka \"tab\" spaces) to separate code blocks.<br>\n",
    "    2. Python's \"for\" is the usual for-loop, here iterating through the list fruits and colors.<br>\n",
    "    3. Yield transforms a usual function into a <strong>generator</strong> which is initialize by calling the function's name, and can be iterated over. <br>\n",
    "    4. The builtin <strong>list</strong> constructor converts an iterable into a list and is equivalent to \"[x for x in L]\". If you execute \"list = [1,2,3]\", a legal Python instruction, you then override the builtin list function and to recover it you need to execute \"from builtins import list\" or simply refresh your interpreter (aka \"restart jupyter's kernel\"). <br>\n",
    "    5. At last, \"L[-i]\" returns the i-th last element of a list L so L[-1] is the last element of L.\n",
    "</details>"
   ]
  },
  {
   "cell_type": "code",
   "execution_count": null,
   "id": "3a02c5a6",
   "metadata": {},
   "outputs": [],
   "source": [
    "genfruit = lambda : (f for f in fruits)\n",
    "\n",
    "next(genfruit())\n",
    "\n",
    "# Q5: What is the output of the following piece of code?\n",
    "next(genfruit())"
   ]
  },
  {
   "cell_type": "markdown",
   "id": "03a2d2f7",
   "metadata": {},
   "source": [
    "<details>\n",
    "    <summary><font color='blue'>Click here for some quick explanations about the output of Q5.</font></summary>\n",
    "    1. Instead of using \"yield\", you can also define a generator a one-liner \"(element for element in my_iterable)\".<br>\n",
    "    2. <strong>lambda</strong> is a keyword to write one-liner functions that have no names with the syntax <strong>\"lambda x,y,z: f(x,y,z)\"</strong> and is equivalent to \"def my_function(x,y,z): return f(x,y,z)\" (yes def does not require a carriage return for one-liner statements but please, don't tell anyone!).<br>\n",
    "    3. <strong>next</strong> is a buildin function that returns the next element of a generator. <br>\n",
    "    4. Since the generator is initialized when calling \"genfruit()\" both times, the answer is indeed the first element of the generator, ie \"banana\".\n",
    "</details>"
   ]
  },
  {
   "cell_type": "markdown",
   "id": "b4f94e28-ca42-475c-90a4-f80457413f4b",
   "metadata": {},
   "source": [
    "# Part 0 -- Generate a fake database\n",
    "\n",
    "The first step of the tutorial is to generate a fake database that will be used through the tutorial to get a feel about performance consequences of small decisions in your code. The database is generated in 10 different sizes where each is a simple csv file where each entry represents some abstract data made of a 60 characters identifier and 3 floats as the example below:\n",
    "\n",
    "ID |Number1 |Number2 |Number3\n",
    ":-:|:-:|:-:|:-:\n",
    "9f6264b5864e4f3e15ef3fbe17b4c4bc90742a9093d5e55e12cdbdbc7191|0.8269301791|0.4302317251|0.9849347586\n",
    "5f15e53e860c7e7bb6d653eed7443dc405748fb9dd8fdda09210b7c62a78|0.3773399908|0.9405536256|0.1265585766\n",
    "38b8ce47beb818d0cbe5aefd9a6d617442a2641115148202d0c65427a5d2|0.7667240736|0.9778946135|0.9630533761\n",
    "...|...|...|..."
   ]
  },
  {
   "cell_type": "markdown",
   "id": "7c575f65-2232-4c2f-b288-c43ec6fc6c09",
   "metadata": {},
   "source": [
    "You can execute the following code without modifications but read through the comments to have an idea of what is defined here. "
   ]
  },
  {
   "cell_type": "code",
   "execution_count": 2,
   "id": "113fddf6-c708-458e-86aa-1cfcd73f566d",
   "metadata": {},
   "outputs": [],
   "source": [
    "# a few necessary imports\n",
    "from random import random, getrandbits\n",
    "from timeit import timeit\n",
    "from matplotlib import pyplot as plt\n",
    "\n",
    "\"\"\"\n",
    "    Here are some utils that we will use in this tutorial.\n",
    "\"\"\"\n",
    "\n",
    "# This generates a fake database with n rows\n",
    "def generate_database(n):\n",
    "    for _ in range(n):\n",
    "        yield hex(getrandbits(60*4))[2:].zfill(60), random(), random(), random()\n",
    "\n",
    "# This saves the database into a file without having had the object fully generated in memory at any time\n",
    "def stream2file(data, filename):\n",
    "    with open(filename, \"w\") as outputfile:\n",
    "        for record in data:\n",
    "            print(record[0], *['{0:.10f}'.format(r) for r in record[1:]], sep=',', file=outputfile)\n",
    "\n",
    "# This does the opposite, ie this is a generator for an already saved database\n",
    "def file2stream(filename):\n",
    "    with open(filename, \"r\") as inputfile:\n",
    "        for line in inputfile.readlines():\n",
    "            record = line.split(',')\n",
    "            yield record[0], *[float(x) for x in record[1:]]\n",
    "\n",
    "# Macro to generate a set of databases of different sizes\n",
    "def generate_all_databases(max_size_in_bytes=100_000_000, nb_files=10):\n",
    "    for i in range(1,nb_files+1):\n",
    "        n = i*max_size_in_bytes//(100*nb_files)\n",
    "        stream2file(generate_database(n), f\"data{n}.csv\")\n",
    "\n",
    "# Macro to plot several lines sharing the same X axis\n",
    "def plotNlines(X, lines):\n",
    "    for name, points in lines:\n",
    "        plt.plot(X, points, marker='o', label=name)\n",
    "    plt.legend()\n",
    "    plt.show()\n",
    "    \n",
    "# Default parameters for the experiments in the tutorial\n",
    "M, N = 100_000_000, 10\n",
    "M1 = M//(100*N)\n",
    "sizes = [M1*(i+1) for i in range(2*N)]\n",
    "\n",
    "# Generates a sequence of 'iterations' sizes from 'minsize' up to 'iterations*minsize'\n",
    "def test_sizes(minsize=M1, iterations=N):\n",
    "    for x in range(iterations):\n",
    "        yield minsize*(x+1)\n",
    "\n",
    "\"\"\"\n",
    "    Here is a simple compare function that compares the time needed by several functions.\n",
    "    The function measures the execution time for different size of input and plot them on a graph.\n",
    "\"\"\"\n",
    "    \n",
    "def compare(*args, iterations=N, minsize=M1, repetition=1):\n",
    "    X = []\n",
    "    Y = [(args[i][0],[]) for i in range(len(args))]\n",
    "    for n in test_sizes(minsize, iterations):\n",
    "        X.append(n)\n",
    "        for i in range(len(args)):\n",
    "            Y[i][1].append(timeit(args[i][1](n), number=repetition))\n",
    "    \n",
    "    plotNlines(X, Y)\n",
    "    \n",
    "\"\"\"\n",
    "    This is a shortcut to generate a sequence of random numbers of size n.\n",
    "\"\"\"\n",
    "generator = lambda n : (random() for _ in range(n))\n",
    "\n",
    "\"\"\"\n",
    "    This is a shortcut to create 20 lists of increasing size (from 100000 elements to 2000000).\n",
    "    And stores the lists in a dictionary so that lists[n] is a list of size n.\n",
    "\"\"\"\n",
    "lists = dict(zip( (n for n in sizes), (list(generator(n)) for n in sizes) ))"
   ]
  },
  {
   "cell_type": "markdown",
   "id": "34fd7a49-1366-4d40-a36e-fab9168be4ab",
   "metadata": {},
   "source": [
    "Now check how much space you have free on your hard-drive and update the following line in consequence if needed. \n",
    "\n",
    "By default 10 files (nb_files) are created with increasing size from 10 MB to 100 MiB, for example use `generate_all_databases(1000000)` to generate files only up to 1 MiB of data and `generate_all_databases(1000000000)` for generating files up to 1 GB of data. Count ~20seconds for 100 MB max.\n",
    "\n",
    "Execute the following (be default about 500 MiB of disk space is required):"
   ]
  },
  {
   "cell_type": "code",
   "execution_count": 5,
   "id": "8fd0bbe9-0938-41d9-a758-22ad79a7710b",
   "metadata": {},
   "outputs": [],
   "source": [
    "generate_all_databases(M, N)"
   ]
  },
  {
   "cell_type": "markdown",
   "id": "e1ad5db1",
   "metadata": {},
   "source": [
    "### Example of using the \"compare\" function\n",
    "\n",
    "In the tutorial, you will be asked to compare different implementations. You can use for that the compare utility function written above.  \n",
    "\n",
    "The function typically takes as arguments:  \n",
    "- **pairs of the form (\"name of the function for legend plot\", *func_n*)** where *func_n* is a function taking a parameter *n* and returning a function that we want to measure the time for input n (similarly to the input of timeit in Python's standard library)\n",
    "- **minsize [optional]** controls the size of the first iteration. By default this is \"M1\" (execute the following line to see the value set for the first iteration):"
   ]
  },
  {
   "cell_type": "code",
   "execution_count": 7,
   "id": "23589dfb",
   "metadata": {},
   "outputs": [
    {
     "data": {
      "text/plain": [
       "100000"
      ]
     },
     "execution_count": 7,
     "metadata": {},
     "output_type": "execute_result"
    }
   ],
   "source": [
    "M1"
   ]
  },
  {
   "cell_type": "markdown",
   "id": "b1235b1d",
   "metadata": {},
   "source": [
    "- **iterations [optional]** controls how far will the test go. By default, 10 iterations are run with *n* taking the following values:"
   ]
  },
  {
   "cell_type": "code",
   "execution_count": 4,
   "id": "f04cf7ec",
   "metadata": {},
   "outputs": [
    {
     "data": {
      "text/plain": [
       "[100000,\n",
       " 200000,\n",
       " 300000,\n",
       " 400000,\n",
       " 500000,\n",
       " 600000,\n",
       " 700000,\n",
       " 800000,\n",
       " 900000,\n",
       " 1000000]"
      ]
     },
     "execution_count": 4,
     "metadata": {},
     "output_type": "execute_result"
    }
   ],
   "source": [
    "minsize, iterations = M1, 10\n",
    "list(test_sizes(minsize, iterations))"
   ]
  },
  {
   "cell_type": "markdown",
   "id": "0b997dca",
   "metadata": {},
   "source": [
    "- **repetition [optional]** how many times \"func_n(n)()\" will be called to calculate how long it takes ('number' in timeit 's parameters).\n",
    "\n",
    "Here is a minimalist example of how to use it, comparing the function that calculates 2n with the one that calculates 2^n:"
   ]
  },
  {
   "cell_type": "code",
   "execution_count": 5,
   "id": "9179a8a7",
   "metadata": {},
   "outputs": [
    {
     "data": {
      "image/png": "[encoded data removed]",
      "text/plain": [
       "<Figure size 432x288 with 1 Axes>"
      ]
     },
     "metadata": {
      "needs_background": "light"
     },
     "output_type": "display_data"
    }
   ],
   "source": [
    "compare( (\"Compute 2*n\", lambda n: lambda: 2*n),\n",
    "         (\"Compute 2**n\", lambda n: lambda: 2**n),\n",
    "        iterations=10)"
   ]
  },
  {
   "cell_type": "markdown",
   "id": "59571126",
   "metadata": {},
   "source": [
    "# Part 1 -- Remember your DATA structures' complexities\n",
    "\n",
    "The first and perhaps foremost step in making your scripts efficient to always keep in mind the cost of different operations with different data structures, and pick the most appropriate for your task at hand. If you are programming in python the following table should always be somewhere in your mind\n",
    "\n",
    "https://wiki.python.org/moin/TimeComplexity\n",
    "\n",
    "Re-check the difference between *average case* and *amortized worst case* if needed.\n",
    "\n",
    "Let's make a couple of examples to see the importance of picking the right data structure for your job."
   ]
  },
  {
   "cell_type": "markdown",
   "id": "da61aa44",
   "metadata": {},
   "source": [
    "## Example (A): Popping an element from a list\n",
    "\n",
    "This example can serve as the archetypal case where the wrong choice of data structure has a very significant impact. Basically, after observing that appending and popping an element from the end of a Python list (as with a stack data structure) are amortized constant time operation, you wrongly assumed popping from the beginning of the list would be an operation enjoying a similar cost. This is not the case!\n",
    "\n",
    "Notice first that removing an element from a list is at least as costly as popping an element as you can write the latter using the former: `del L[0]` in lieu of `L.pop(0)`.\n",
    "\n",
    "Usually a simple trick consist to build and update the list in the opposite direction so that popping will be a constant-time operation. In general, the appropriate data structure to use when popping can come from both sides is called `deque` from the `collections` library. \n",
    "\n",
    "Let's make a small example to appreciate the cost of each, execute the following cell to add definitions for two possible implementations.\n"
   ]
  },
  {
   "cell_type": "code",
   "execution_count": 12,
   "id": "f2ca46f8",
   "metadata": {},
   "outputs": [],
   "source": [
    "from collections import deque\n",
    "\n",
    "\"\"\"\n",
    "    Each function below 'pops' one-fourth of the list/queue, one element at the time.\n",
    "\"\"\"\n",
    "\n",
    "def pop_one_quarter_list(L):\n",
    "    for _ in range(len(L)//4):\n",
    "        L.pop(0)\n",
    "\n",
    "def pop_one_quarter_queue(L):\n",
    "    for _ in range(len(L)//4):\n",
    "        L.popleft()\n",
    "    "
   ]
  },
  {
   "cell_type": "markdown",
   "id": "f742274d",
   "metadata": {},
   "source": [
    "### Question 1 (guided example question)\n",
    "\n",
    "Using *compare*, generate a small comparison plot between the time taken by the two implementations using eg iterations=4. "
   ]
  },
  {
   "cell_type": "markdown",
   "id": "7dc672c5",
   "metadata": {},
   "source": [
    "To answer the question, we need to write a piece of code that will test the 'pop_one_quarter_list'. For that, we can use the lists that were already created at the beginning (in Part 0) but then executing the cell will have the side-effect of emptying those lists. Instead let's create a new list / queue during the test for each implementation.\n",
    "\n",
    "Let's make an example:"
   ]
  },
  {
   "cell_type": "code",
   "execution_count": 13,
   "id": "ed37ea2b",
   "metadata": {},
   "outputs": [],
   "source": [
    "# generate a list of size n, then pops 1/4th of the list from the left, then returns the truncated list\n",
    "def popping_from_list(n):\n",
    "    list_of_size_n = list(generator(n))\n",
    "    pop_one_quarter_list(list_of_size_n)\n",
    "    return list_of_size_n\n",
    "\n",
    "# needs to return a callable, this is similar to the expected input to 'timeit' function\n",
    "def test_callable(n, my_callable): \n",
    "    def my_callable_without_parameter():\n",
    "        return my_callable(n)\n",
    "    return my_callable_without_parameter\n",
    "\n",
    "# let's test if it does generate what we want with a list of size 12 (so 3 elements to pop)\n",
    "test_function_to_call = test_callable(12, popping_from_list)"
   ]
  },
  {
   "cell_type": "markdown",
   "id": "9a6c193a",
   "metadata": {},
   "source": [
    "Now that we have generated a function to test for size 12, let's check that it works (the list should have only 9 elements left):"
   ]
  },
  {
   "cell_type": "code",
   "execution_count": 14,
   "id": "71221bdc",
   "metadata": {
    "scrolled": true
   },
   "outputs": [
    {
     "data": {
      "text/plain": [
       "9"
      ]
     },
     "execution_count": 14,
     "metadata": {},
     "output_type": "execute_result"
    }
   ],
   "source": [
    "len(test_function_to_call())"
   ]
  },
  {
   "cell_type": "markdown",
   "id": "8ffe75ce",
   "metadata": {},
   "source": [
    "Let's write now the equivalent code for a queue:"
   ]
  },
  {
   "cell_type": "code",
   "execution_count": 15,
   "id": "e0e624e1",
   "metadata": {},
   "outputs": [],
   "source": [
    "from collections import deque\n",
    "\n",
    "def popping_from_queue(n):\n",
    "    queue_of_size_n = deque(generator(n))\n",
    "    pop_one_quarter_queue(queue_of_size_n)\n",
    "    return queue_of_size_n"
   ]
  },
  {
   "cell_type": "markdown",
   "id": "6aad3bee",
   "metadata": {},
   "source": [
    "Let's check that it also works with a queue of size 12:"
   ]
  },
  {
   "cell_type": "code",
   "execution_count": 16,
   "id": "ef29c0ec",
   "metadata": {},
   "outputs": [
    {
     "name": "stdout",
     "output_type": "stream",
     "text": [
      "and the popped queue has now size... 9 !\n"
     ]
    }
   ],
   "source": [
    "test_function_to_call = test_callable(12, popping_from_queue)\n",
    "\n",
    "print(\"and the popped queue has now size...\", len(test_function_to_call()), \"!\")"
   ]
  },
  {
   "cell_type": "markdown",
   "id": "caa5a94c",
   "metadata": {},
   "source": [
    "We can now try to compare the time used by both functions 'poping_from_list' and 'poping_from_queue' (each includes also the generation time). \n",
    "\n",
    "For that, let's use the compare function with 20 iterations starting from a size of 1000 elements, and we'll repeat each experiment 3 times. \n",
    "\n",
    "That means we are going to use the following sizes:"
   ]
  },
  {
   "cell_type": "code",
   "execution_count": 17,
   "id": "bbe15d57",
   "metadata": {},
   "outputs": [
    {
     "name": "stdout",
     "output_type": "stream",
     "text": [
      "1000 2000 3000 4000 5000 6000 7000 8000 9000 10000 11000 12000 13000 14000 15000 16000 17000 18000 19000 20000\n"
     ]
    }
   ],
   "source": [
    "print(*list(test_sizes(1000, 20)))"
   ]
  },
  {
   "cell_type": "code",
   "execution_count": 19,
   "id": "9d5cba89",
   "metadata": {},
   "outputs": [
    {
     "data": {
      "image/png": "[encoded data removed]",
      "text/plain": [
       "<Figure size 432x288 with 1 Axes>"
      ]
     },
     "metadata": {
      "needs_background": "light"
     },
     "output_type": "display_data"
    }
   ],
   "source": [
    "def test_pop_list(n):\n",
    "    return test_callable(n, popping_from_list)\n",
    "\n",
    "def test_pop_queue(n):\n",
    "    return test_callable(n, popping_from_queue)\n",
    "\n",
    "compare((\"Popping from a list\", test_pop_list),\n",
    "         (\"Popping from a double-ended queue\", test_pop_queue),\n",
    "        minsize=1000,\n",
    "        iterations=20,\n",
    "        repetition=3)"
   ]
  },
  {
   "cell_type": "markdown",
   "id": "593ccd23",
   "metadata": {},
   "source": [
    "**[Question 1]** Test with larger sizes (ie increase iterations). Which implementation is clearly faster?"
   ]
  },
  {
   "cell_type": "markdown",
   "id": "065ac7e3",
   "metadata": {},
   "source": [
    "#### Here is a short solution (aka example of using lambda functions in Python)\n",
    "\n",
    "All the code written in the cells above can be reduced by using lambda functions in Python (short functions containing a single expression and lacking a proper name used in a functional programming style):"
   ]
  },
  {
   "cell_type": "code",
   "execution_count": 20,
   "id": "b6d3a9b9",
   "metadata": {},
   "outputs": [
    {
     "data": {
      "image/png": "[encoded data removed]",
      "text/plain": [
       "<Figure size 432x288 with 1 Axes>"
      ]
     },
     "metadata": {
      "needs_background": "light"
     },
     "output_type": "display_data"
    }
   ],
   "source": [
    "compare((\"Popping from a list\", \n",
    "             lambda n: lambda: pop_one_quarter_list(list(generator(n)))),\n",
    "         (\"Popping from a double-ended queue\", \n",
    "              lambda n: lambda: pop_one_quarter_queue(deque(generator(n)))),\n",
    "        minsize=1000,\n",
    "        iterations=50,\n",
    "        repetition=1)"
   ]
  },
  {
   "cell_type": "markdown",
   "id": "e0fd5c49",
   "metadata": {},
   "source": [
    "## Example (b): Storing elements with a list (or matrix) or a dictionary (aka hashmap)?\n",
    "\n",
    "Let's have another example playing with the data structure's complexity, slightly more involved this time. Let's consider the following very common scenario: you have multi-dimensional data that you must organize and you are hesitating between using a matrix based on lists or a Python dictionary. Let's assume for example you have 2D datapoints $(x,y)$ such $1 \\leq x, y \\leq n$ and each is associated with a certain value. An operation that you will often have to do is for example to sum all the values and you are wondering which data structure is better to store the datapoints (it is assumed here that datapoints have also often to be modified so we don't want a structure dedicated to calculate the sum, such as simply the list of values).\n",
    "\n",
    "Here is a typical example where the answer is not binary. Using a dictionary might seem the best option as only values stored are accessed, but consider that going through all values is more costly than looping through an equivalent size list.\n",
    "\n",
    "Let's have a look how they perform on an example."
   ]
  },
  {
   "cell_type": "code",
   "execution_count": 66,
   "id": "d7ae0df2",
   "metadata": {},
   "outputs": [],
   "source": [
    "from math import sqrt\n",
    "\n",
    "\"\"\"\n",
    "    Here 'n' is the total range for the 2D-point as explained above.\n",
    "    And 'i' is how many random items to add to the data structure.\n",
    "\"\"\"\n",
    "\n",
    "def using_dict(n,i):\n",
    "    n, i = int(sqrt(n)), int(sqrt(i))\n",
    "    d = {}\n",
    "    for a in range(i):\n",
    "        for b in range(i):\n",
    "            d[(a,b)] = random()    \n",
    "    sum(d.values())\n",
    "    \n",
    "def using_lists(n,i):\n",
    "    n, i = int(sqrt(n)), int(sqrt(i))\n",
    "    L = [[0]*n for _ in range(n)]\n",
    "    for a in range(i):\n",
    "        for b in range(i):\n",
    "            L[a][b] = random()    \n",
    "    sum(x for row in L for x in row)"
   ]
  },
  {
   "cell_type": "markdown",
   "id": "98bd66e9",
   "metadata": {},
   "source": [
    "### Question 2\n",
    "\n",
    "Compare both implementations by adding different number of items to the data structure. Depending on how fast your machine is, you can use eg iterations=12 here.\n",
    "\n",
    "Which one is faster for different sparsity levels in each data structure (ie how full the data structure is)?"
   ]
  },
  {
   "cell_type": "markdown",
   "id": "c8f7798f-d047-42b7-8616-69bd2bb1e74d",
   "metadata": {},
   "source": [
    "# Part 2 -- Remember to stream your DATA\n",
    "\n",
    "Python includes a well-designed mechanism to stream data called generators. Using generators allows to alleviate the use of allocating a structure to hold data if not needed; for example, almost all Python built-in functions (min/max, sum, iteration functions etc) use iterators by default avoiding in many situations the need of storing data.\n",
    "\n",
    "Let's make a simple example to visualize how this can make your code more efficient. Streaming takes its full advantage when alleviating the allocation of huge memory space. Here is an example where we check how to retrieve the argmin from a certain list, in one example where we allocate the list in memory and in the second where we use streaming directly on the generator producing data. On top of being faster, the streaming implementation avoided the allocation of about ~10GB of memory (with `minsize=50_000_000`)."
   ]
  },
  {
   "cell_type": "code",
   "execution_count": 22,
   "id": "8379fde8",
   "metadata": {},
   "outputs": [],
   "source": [
    "\"\"\"\n",
    "    Here are two implementations of the argmin function, that returns the minimum of the iterable L.\n",
    "    \n",
    "    The first function 'argmin' assumes L is a list, hence can be addressed via eg L[0] etc.\n",
    "    \n",
    "    The second function 'argmin_streaming' does not make this assumption and just iterates through the iterable.\n",
    "\"\"\"\n",
    "\n",
    "def argmin(L):\n",
    "    argminL, minL = 0, L[0]\n",
    "    for i in range(1, len(L)):\n",
    "        if L[i] < minL:\n",
    "            argminL, minL = i, L[i]\n",
    "    return argminL\n",
    "\n",
    "def argmin_streaming(L):\n",
    "    argminL, minL = 0, next(L)\n",
    "    for i, elem in enumerate(L):\n",
    "        if elem < minL:\n",
    "            argminL, minL = 1+i, elem\n",
    "    return argminL"
   ]
  },
  {
   "cell_type": "markdown",
   "id": "2b7699de",
   "metadata": {},
   "source": [
    "In particular, if one does not have 10 GB of memory available, only the streaming version can be considered. For example, on my laptop with about 12 GB of free memory, `argmin_streaming(generator(350_000_000))` does not pose any problem whereas `argmin(generator(350_000_000))` makes my computer fill up memory and swap up to the point of being killed by the OS, jupyter seeing the process as a still running cell. Check it out for yourself (adapt the size of input):"
   ]
  },
  {
   "cell_type": "code",
   "execution_count": 23,
   "id": "73519601",
   "metadata": {},
   "outputs": [
    {
     "data": {
      "text/plain": [
       "184837323"
      ]
     },
     "execution_count": 23,
     "metadata": {},
     "output_type": "execute_result"
    }
   ],
   "source": [
    "argmin_streaming(generator(350_000_000))"
   ]
  },
  {
   "cell_type": "markdown",
   "id": "aaf501a6",
   "metadata": {},
   "source": [
    "The above example could also serve as a reminder for not reinventing the wheel, especially in Python! For example the function argmin is already provided by numpy! Let's now compare different versions of the argmin function:"
   ]
  },
  {
   "cell_type": "code",
   "execution_count": 5,
   "id": "6fd3fe07",
   "metadata": {},
   "outputs": [],
   "source": [
    "from math import sin, cos\n",
    "import numpy as np\n",
    "\n",
    "\"\"\"\n",
    "    Here are 4 different implementations of the 'argmin' function.\n",
    "\"\"\"\n",
    "\n",
    "def argmin_lazy(L):\n",
    "    return L.index(min(L))\n",
    "\n",
    "def argmin(L):\n",
    "    argminL, minL = 0, L[0]\n",
    "    for i in range(1, len(L)):\n",
    "        if L[i] < minL:\n",
    "            argminL, minL = i, L[i]\n",
    "    return argminL\n",
    "\n",
    "def argmin_streaming(L):\n",
    "    argminL, minL = 0, next(L)\n",
    "    for i, elem in enumerate(L):\n",
    "        if elem < minL:\n",
    "            argminL, minL = 1+i, elem\n",
    "    return argminL\n",
    "\n",
    "def argmin_streaming2(L):\n",
    "    return min((elem, i) for i, elem in enumerate(L))[1]\n",
    "\n",
    "\"\"\"\n",
    "    Example of input to test with.\n",
    "\"\"\"\n",
    "\n",
    "def example_generator(n):\n",
    "    for x in lists[n]:\n",
    "        yield sin(x)*cos(x)\n",
    "        \n",
    "def example_list(n):\n",
    "    return list(example_generator(n))\n"
   ]
  },
  {
   "cell_type": "markdown",
   "id": "0554d204",
   "metadata": {},
   "source": [
    "### Question 3\n",
    "\n",
    "Which implementation is faster?\n",
    "\n",
    "*(Don't hesitate to go up to iterations=20 here!)*"
   ]
  },
  {
   "cell_type": "markdown",
   "id": "f1299e0a",
   "metadata": {},
   "source": [
    "#  Part 3 -- Remember to use multiprocessing for repetitive tasks\n",
    "\n",
    "Python is an interpreted language where the interpreter is a monocore process (at least till now but discussions are ongoing on removing in the future the infamous *GIL*, https://www.infoworld.com/article/3704248/python-moves-to-remove-the-gil-and-boost-concurrency.html). \n",
    "\n",
    "You will therefore not have anything like real “multithreading” in Python. However, Python has made lots of facilities for “multiprocessing” that is running several programs in parallel. This makes things that are easily parallelizable very fast to implement. \n",
    "\n",
    "Typical tasks that are very easy parallelizable include aggregate functions like min/max, sum/average etc and results from simulations. Let's have a further look at the latter, which is one of the main tasks where scripts come into play. \n",
    "\n",
    "For this example, we assume a fake function called `complicated_simulation(n)` that will serve as a dummy function for what we are interested in simulating (eg a program that we want to measure execution time, the output of a random algorithm etc). Our call is executed `nb_runs` times and outputs the average of all simulations, and we will simulate our function for increasing values of `nb_runs`.\n",
    "\n",
    "Let's compare a sequential implementation to a parallel one."
   ]
  },
  {
   "cell_type": "code",
   "execution_count": null,
   "id": "ce6cc32c",
   "metadata": {},
   "outputs": [],
   "source": [
    "from math import sin, cos, sqrt\n",
    "import multiprocessing as mp\n",
    "\n",
    "\"\"\"\n",
    "    Here are:\n",
    "        -a dummy slow simulation function 'complicated_simulation'\n",
    "        -a macro to calculate the average of 'nb_runs' of the complicated function\n",
    "        -another macro to calculate the same but using 'nb_processes' different processes\n",
    "\"\"\"\n",
    "\n",
    "def complicated_simulation(n):\n",
    "    return sqrt(n)*random()/(cos(random())*sin(random()))\n",
    "\n",
    "def avg_simulations(nb_runs):\n",
    "    return sum(complicated_simulation(nb_runs) for _ in range(nb_runs))/nb_runs\n",
    "\n",
    "def avg_sim_parallel(nb_runs, nb_processes):\n",
    "    with mp.Pool(processes=nb_processes) as pool:\n",
    "        return sum(pool.map(avg_simulations, [nb_runs//nb_processes]*nb_processes, 1))/nb_processes\n",
    "        \n",
    "# running time with 1 (single process) to 4 processes (multiprocessing)\n",
    "\n",
    "compare((\"Sequential implementation\", lambda n: lambda: avg_simulations(n)),\n",
    "        (\"Parallel implementation, 2 processes\", lambda n: lambda: avg_sim_parallel(n, 2)),\n",
    "        (\"Parallel implementation, 3 processes\", lambda n: lambda: avg_sim_parallel(n, 3)),\n",
    "        (\"Parallel implementation, 4 processes\", lambda n: lambda: avg_sim_parallel(n, 4)),\n",
    "        (\"Parallel implementation, 8 processes\", lambda n: lambda: avg_sim_parallel(n, 8)),\n",
    "        iterations=15, repetition=2)"
   ]
  },
  {
   "cell_type": "markdown",
   "id": "ad1c8603",
   "metadata": {},
   "source": [
    "### Question 4\n",
    "\n",
    "Check how many cores are available on your machine and compare the time needed by the above calculations when using different number of processes.\n",
    "\n",
    "Is it always faster to use more processes?"
   ]
  },
  {
   "cell_type": "markdown",
   "id": "a46d8188",
   "metadata": {},
   "source": [
    "# Part 4 -- Remember the different types of memory\n",
    "\n",
    "Always keep in mind that access to the file system is order of magnitude slower than access to main memory. This can sound obvious but temptation can be great to read some data from disk not to have to store it somewhere in memory, but this is in general a bad idea."
   ]
  },
  {
   "cell_type": "markdown",
   "id": "8f9de18d",
   "metadata": {},
   "source": [
    "### Question 5\n",
    "\n",
    "Write a small simple experiment to show the difference between:\n",
    "- generating a random list of size n\n",
    "- reading an already generated list from disk\n",
    "\n",
    "Which one is faster in general? And on your machine? Is there a big difference for eg iterations=10?"
   ]
  },
  {
   "cell_type": "markdown",
   "id": "0cd099b5",
   "metadata": {},
   "source": [
    "# Part 5 -- Remember to load efficiently your DATA in memory\n",
    "\n",
    "An important part of scripting consists in saving data on disk and loading data into memory. When developing a script, you might encounter the situation where for every run of the script you need to reload from disk a (huge) database. Waiting for the data to load removes precious seconds of a developer time. Here let's see how we can make the process faster.\n",
    "\n",
    "\n",
    "## Serializing data in Python\n",
    "\n",
    "We assume that you have some database to load in memory for the purpose of your script. For that purpose, we will use the fake databases that we have generated at the beginning. We will assume that you already have a parser function reading the data on disk and generating a Python object, that is more or less anything that can be stored in a variable in Python.\n",
    "\n",
    "For next run of your script, instead of reading from the disk again the data that requires parsing, you can recreate in memory the Python object that resulted from the parsing. For that to work, we need to serialize the object in the first place then deserialize it when we need it, and the Python library for such jobs is called `pickle`.\n",
    "\n",
    "Let's make a simple example with the fake databases and let's compare the loading time with parsing from disk. \n",
    "\n",
    "\n"
   ]
  },
  {
   "cell_type": "code",
   "execution_count": 24,
   "id": "5aa0e65f",
   "metadata": {},
   "outputs": [],
   "source": [
    "import pickle\n",
    "\n",
    "\"\"\"\n",
    "    Some short utils to save / load binary serialized files of Python objects.\n",
    "\"\"\"\n",
    "\n",
    "def savedump(myobj, filename):\n",
    "    with open(filename,'wb') as f:\n",
    "        pickle.dump(myobj, f)\n",
    "\n",
    "def loaddump(filename):\n",
    "    with open(filename,'rb') as f:\n",
    "        return pickle.load(f)\n",
    "    \n",
    "\"\"\"\n",
    "    The following code loads the generated databases in memory.\n",
    "\"\"\"\n",
    "    \n",
    "my_db = {}\n",
    "\n",
    "def load_database(n):\n",
    "    my_db[n] = list(file2stream(f\"data{n}.csv\"))\n"
   ]
  },
  {
   "cell_type": "markdown",
   "id": "3c9934db",
   "metadata": {},
   "source": [
    "### Question 6\n",
    "\n",
    "Compare the time to execute `load_database(n)` (parsing the file from disk) with saving the file on disk with `savedump` (to do once) and loading the binary into memory with `loaddump` (on next runs).\n",
    "\n",
    "So which implementation is faster and by how much?"
   ]
  },
  {
   "cell_type": "markdown",
   "id": "65e38167",
   "metadata": {},
   "source": [
    "## Finding an old dump\n",
    "\n",
    "One downside of taking the habit of dumping large amount of data from possibly complicated Python objects is that the dump is completely dependent on how the object was constructed in the first place and it might be tricky without documentation to retrieve the version of the software that was used to generate a particular dump. For very large data taking considerable amount of time to generate, the old dump is not useless but using <a href=\"https://book.pythontips.com/en/latest/object_introspection.html\">introspection</a>, we can explore the data structure and for example, convert it to a more appropriate format/object."
   ]
  },
  {
   "cell_type": "code",
   "execution_count": 32,
   "id": "bc036de4",
   "metadata": {},
   "outputs": [
    {
     "name": "stdout",
     "output_type": "stream",
     "text": [
      "the object's type:\t\t <class 'list'>\n",
      "available attributes/methods:\t __add__ __class__ __contains__ __delattr__ __delitem__ __dir__ __doc__ __eq__ __format__ __ge__ __getattribute__ __getitem__ __gt__ __hash__ __iadd__ __imul__ __init__ __init_subclass__ __iter__ __le__ __len__ __lt__ __mul__ __ne__ __new__ __reduce__ __reduce_ex__ __repr__ __reversed__ __rmul__ __setattr__ __setitem__ __sizeof__ __str__ __subclasshook__ append clear copy count extend index insert pop remove reverse sort\n"
     ]
    }
   ],
   "source": [
    "data = loaddump(\"data100000.dump\")\n",
    "print(\"the object's type:\\t\\t\",type(data))\n",
    "print(\"available attributes/methods:\\t\",*dir(data))"
   ]
  },
  {
   "cell_type": "markdown",
   "id": "1a7c8e92",
   "metadata": {},
   "source": [
    "## And watch out when using copy and deepcopy of your objects\n",
    "\n",
    "Copying object is often both needed and in the same time an important source of execution time. Let's make a simple example to explore the deepcopy mechanism built-in in Python's standard library."
   ]
  },
  {
   "cell_type": "code",
   "execution_count": 33,
   "id": "7a6a338c",
   "metadata": {},
   "outputs": [],
   "source": [
    "from copy import copy, deepcopy\n",
    "\n",
    "\"\"\"\n",
    "    Here is a simple class object that stores a list of numbers (here generated at random on its creation).\n",
    "\"\"\"\n",
    "\n",
    "class MyObject:\n",
    "    def __init__(self, n):\n",
    "        self.mylist = [random() for _ in range(n)]"
   ]
  },
  {
   "cell_type": "markdown",
   "id": "cc9b6195",
   "metadata": {},
   "source": [
    "Remember the difference between a shallow copy (copy using references only) and a deep copy (all objects are copied in a recursive fashion). For example, consider the below code where the copy was only shallow:"
   ]
  },
  {
   "cell_type": "code",
   "execution_count": null,
   "id": "aa4d9673",
   "metadata": {},
   "outputs": [],
   "source": [
    "x = MyObject(10)\n",
    "print(x.mylist[0])\n",
    "y = copy(x)\n",
    "x.mylist[0] = 42\n",
    "y.mylist[0]"
   ]
  },
  {
   "cell_type": "markdown",
   "id": "c6ea1b2f",
   "metadata": {},
   "source": [
    "And compare it to the same example with a deep copy:"
   ]
  },
  {
   "cell_type": "code",
   "execution_count": null,
   "id": "38a52694",
   "metadata": {},
   "outputs": [],
   "source": [
    "x = MyObject(10)\n",
    "print(x.mylist[0])\n",
    "y = deepcopy(x)\n",
    "x.mylist[0] = 42\n",
    "y.mylist[0]"
   ]
  },
  {
   "cell_type": "markdown",
   "id": "55fe8db4",
   "metadata": {},
   "source": [
    "Let's compare the efficiency of the deepcopy function from the copy module with a naive ad hoc based copy:"
   ]
  },
  {
   "cell_type": "code",
   "execution_count": 12,
   "id": "34aa4b27",
   "metadata": {},
   "outputs": [],
   "source": [
    "\"\"\"\n",
    "    Object inherited from parent object 'MyObject' with one additional method: 'copy_my_object'.\n",
    "\"\"\"\n",
    "\n",
    "class MyObjectWithCopy(MyObject):\n",
    "    def copy_my_object(self):\n",
    "        a = MyObject(0)\n",
    "        a.mylist = self.mylist[:] \n",
    "        return a"
   ]
  },
  {
   "cell_type": "markdown",
   "id": "39312096",
   "metadata": {},
   "source": [
    "### Question 7\n",
    "\n",
    "In this example, which implementation is faster?"
   ]
  },
  {
   "cell_type": "markdown",
   "id": "580b8791",
   "metadata": {},
   "source": [
    "# Part 6 -- Remember that DATA representation does always matter\n",
    "\n",
    "We will compare here the time to parse an ASCII-formatted database with the time to parse the same database saved in binary format. We'll also compare those to their *pickle-ed* versions.\n",
    "\n",
    "In this example, we'll use our initial databases. Converting strings to floats will keep roughly speaking the first 7 digits correct in the decimal extension whereas our database had 10 decimal precision; for many applications, such a conversion will have no impact. If more digits are needed, we can pack the Python floating point objects to \"double\" using 8 bytes instead of only 4; this way, we can keep up to 15 digits and encode *almost* exactly our data (*almost* because there will always be a small error due to the conversion).\n",
    "\n"
   ]
  },
  {
   "cell_type": "code",
   "execution_count": 34,
   "id": "8bf2f008",
   "metadata": {},
   "outputs": [],
   "source": [
    "import struct\n",
    "\n",
    "\"\"\"\n",
    "    Here are two methods to read / load a dataset saved in binary format.\n",
    "\"\"\"\n",
    "\n",
    "def stream2binfile(data, filename):\n",
    "    with open(filename, \"wb\") as outputfile:\n",
    "        for record in data:\n",
    "            outputfile.write(bytes.fromhex(record[0]))\n",
    "            for i in range(3):\n",
    "                outputfile.write(struct.pack(\"f\", record[1+i]))\n",
    "                \n",
    "def binfile2stream(filename):\n",
    "    with open(filename, \"rb\") as file:\n",
    "        record = file.read(42)\n",
    "        while record:\n",
    "            yield record[:30].hex(), *[struct.unpack(\"f\", record[30+i*4:30+(i+1)*4])[0] for i in range(3)]\n",
    "            record = file.read(42)\n",
    "            \n",
    "\"\"\"\n",
    "    We'll generate binary versions of our example database with the following.\n",
    "\"\"\"\n",
    "\n",
    "def generate_bin_databases(max_size_in_bytes=100_000_000, nb_files=10):\n",
    "    for i in range(1,nb_files+1):\n",
    "        n = i*max_size_in_bytes//(100*nb_files)\n",
    "        stream2binfile(generate_database(n), f\"data{n}.bin\")\n",
    "        \n",
    "generate_bin_databases() "
   ]
  },
  {
   "cell_type": "markdown",
   "id": "1ad613d0",
   "metadata": {},
   "source": [
    "Let's then compare the two strategies, first in terms of space: the second one uses 42 bytes instead 100 per data point, generates of course a database 42% of the original size. If doubles were used, 54% could be reached instead.\n",
    "Now let's compare in terms of loading time, will we experience also only 42% loading time?"
   ]
  },
  {
   "cell_type": "markdown",
   "id": "e58e3046",
   "metadata": {},
   "source": [
    "### Question 8\n",
    "\n",
    "Which implementation is faster here to load the database?"
   ]
  },
  {
   "cell_type": "markdown",
   "id": "36756b6c",
   "metadata": {},
   "source": [
    "# Part 7 -- Appendix: some more diverse Python tricks\n",
    "\n",
    "(part still under construction for now)\n",
    "\n",
    "Here is a list of diverse tips about Python programming.\n",
    "\n",
    "### Accessing the history of the interactive interpreter\n",
    "\n",
    "Whether you are using the jupyter notebook and a more traditional interactive interpreter such as idle, you can use the variable _ to access the last value displayed in (practical to avoid running a lengthy computation).\n",
    "\n",
    "For example, execute the following cell:"
   ]
  },
  {
   "cell_type": "code",
   "execution_count": null,
   "id": "00dc8695",
   "metadata": {},
   "outputs": [],
   "source": [
    "from time import sleep\n",
    "\n",
    "def some_function_that_was_lengthly_to_execute():\n",
    "    sleep(10) # some very CPU intensive code here :)\n",
    "    return [sin(x)*cos(x) for x in range(1000)]\n",
    "\n",
    "some_function_that_was_lengthly_to_execute()"
   ]
  },
  {
   "cell_type": "markdown",
   "id": "99b8057c",
   "metadata": {},
   "source": [
    "Oops, how will I get that table I generated without re-executing the cell?? Here you are:"
   ]
  },
  {
   "cell_type": "code",
   "execution_count": 33,
   "id": "e9223c21",
   "metadata": {},
   "outputs": [
    {
     "data": {
      "text/plain": [
       "[0.0,\n",
       " 0.4546487134128409,\n",
       " -0.37840124765396416,\n",
       " -0.13970774909946293,\n",
       " 0.4946791233116909,\n",
       " -0.2720105554446849,\n",
       " -0.26828645900021747,\n",
       " 0.4953036778474351,\n",
       " -0.14395165833253265,\n",
       " -0.375493623385838]"
      ]
     },
     "execution_count": 33,
     "metadata": {},
     "output_type": "execute_result"
    }
   ],
   "source": [
    "table = _\n",
    "\n",
    "table[:10]"
   ]
  },
  {
   "cell_type": "markdown",
   "id": "e3f474e5",
   "metadata": {},
   "source": [
    "*NB: In Ipython, you can as well access the second to last on with __ and third to last with ___.*"
   ]
  },
  {
   "cell_type": "markdown",
   "id": "3e3cb850",
   "metadata": {},
   "source": [
    "### The proper way to  flatten a 2D list\n",
    "\n",
    "There might be many ways to flatten multi-dimensional data, but the one that is considered the most pythonic is:  \n",
    "```[element for row in matrix for element in row]```\n",
    "\n",
    "And that's it, the debate is close. Full stop :)"
   ]
  },
  {
   "cell_type": "markdown",
   "id": "8b341d3e",
   "metadata": {},
   "source": [
    "### Name your variables!"
   ]
  },
  {
   "cell_type": "markdown",
   "id": "6e20b553",
   "metadata": {},
   "source": [
    "Imagine you have some labeled data called *summary* and for the sake of the example generate one such data with the following cell:"
   ]
  },
  {
   "cell_type": "code",
   "execution_count": 19,
   "id": "5946dd52",
   "metadata": {},
   "outputs": [],
   "source": [
    "from random import random\n",
    "summary_generator = lambda : ((\"field 0\", random(), \"field 2\") for s in range(10))\n",
    "summary = list(summary_generator())"
   ]
  },
  {
   "cell_type": "markdown",
   "id": "aefcbdc4",
   "metadata": {},
   "source": [
    "Consider the following code that extract field number \"1\" from an iterable that was called \"summary\":"
   ]
  },
  {
   "cell_type": "code",
   "execution_count": null,
   "id": "8e90524f",
   "metadata": {},
   "outputs": [],
   "source": [
    "ids = set(trace[1] for trace in summary)\n",
    "ids"
   ]
  },
  {
   "cell_type": "markdown",
   "id": "9a2f6ff8",
   "metadata": {},
   "source": [
    "A better way would be to write the same code but in a much more readable manner:"
   ]
  },
  {
   "cell_type": "code",
   "execution_count": null,
   "id": "c10b8053",
   "metadata": {},
   "outputs": [],
   "source": [
    "ids = set(trace_id for trace_title, trace_id, *_ in summary)\n",
    "ids"
   ]
  },
  {
   "cell_type": "markdown",
   "id": "ae449952",
   "metadata": {},
   "source": [
    "### A useful design pattern for subclasses\n",
    "\n",
    "Often we have to create dedicated classes using inheritance. Let's consider first a minimalist parent class example:"
   ]
  },
  {
   "cell_type": "code",
   "execution_count": null,
   "id": "c016d0e3",
   "metadata": {},
   "outputs": [],
   "source": [
    "class ParentClass():\n",
    "    def __init__(self):\n",
    "        print(\"This is the constructor of the parent class\")\n",
    "\n",
    "def function_that_expects_a_parent(class_to_use):\n",
    "    o = class_to_use()\n",
    "    return o\n",
    "    \n",
    "function_that_expects_a_parent(ParentClass)"
   ]
  },
  {
   "cell_type": "markdown",
   "id": "eec19ddd",
   "metadata": {},
   "source": [
    "Imagine a sub-class that has simply an additional \"instance_variable\" set to a particular value.\n",
    "\n",
    "One natural way to generate such a sub-class would be to write the following code:\n",
    "    "
   ]
  },
  {
   "cell_type": "code",
   "execution_count": null,
   "id": "b754b378",
   "metadata": {},
   "outputs": [],
   "source": [
    "class DedicatedChild(ParentClass):\n",
    "    def __init__(self, value, *kargs, **kwargs):\n",
    "        super().__init__(*kargs, **kwargs)\n",
    "        self.instance_variable = value\n",
    "        \n",
    "print(DedicatedChild(10))"
   ]
  },
  {
   "cell_type": "markdown",
   "id": "845d4fe0",
   "metadata": {},
   "source": [
    "The problem with the above design is that now we have changed the constructor of the parent class which may result in not being able to re-use some previous code that instantiated the parent class in a particular manner. In particular, now one cannot simply call the 'function_that_expects_a_parent' with the 'DedicatedChild', ie:"
   ]
  },
  {
   "cell_type": "code",
   "execution_count": null,
   "id": "44c95369",
   "metadata": {},
   "outputs": [],
   "source": [
    "function_that_expects_a_parent(DedicatedChild)"
   ]
  },
  {
   "cell_type": "markdown",
   "id": "738f1514",
   "metadata": {},
   "source": [
    "Now consider the below code instead:"
   ]
  },
  {
   "cell_type": "code",
   "execution_count": null,
   "id": "eeaaf4c5",
   "metadata": {},
   "outputs": [],
   "source": [
    "class ParentClass():\n",
    "    # ... here usual constructor, methods etc\n",
    "    def __init__(self):\n",
    "        print(\"This is the constructor of the parent class\")\n",
    "\n",
    "    @classmethod\n",
    "    def make(cls, value):\n",
    "        class DedicatedChild(cls):\n",
    "            def __init__(self, *kargs, **kwargs):\n",
    "                super().__init__(*kargs, **kwargs)\n",
    "                self.instance_variable = value\n",
    "        return DedicatedChild \n",
    "    \n",
    "# Now we can use a purpose-built class\n",
    "o = function_that_expects_a_parent(ParentClass.make(10))\n",
    "o.instance_variable"
   ]
  },
  {
   "cell_type": "markdown",
   "id": "c3e42ea1",
   "metadata": {},
   "source": [
    "Here, we delegate the construction to a class method which will return a new class built on purpose. Then we can use this \"DedicatedChild\" in exactly the same way the \"ParentClass\" was used, just with the extra \"instance_variable\" set to the right value.\n",
    "\n",
    "In summary, using such design patterns as the one above will not change in any way the \"efficiency\" of your scripts / Python code but will definitively make your scripts much shorter and easier to manage. Think about it!"
   ]
  }
 ],
 "metadata": {
  "kernelspec": {
   "display_name": "Python 3 (ipykernel)",
   "language": "python",
   "name": "python3"
  },
  "language_info": {
   "codemirror_mode": {
    "name": "ipython",
    "version": 3
   },
   "file_extension": ".py",
   "mimetype": "text/x-python",
   "name": "python",
   "nbconvert_exporter": "python",
   "pygments_lexer": "ipython3",
   "version": "3.8.10"
  }
 },
 "nbformat": 4,
 "nbformat_minor": 5
}
